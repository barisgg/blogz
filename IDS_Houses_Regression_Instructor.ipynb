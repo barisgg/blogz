{
  "nbformat": 4,
  "nbformat_minor": 0,
  "metadata": {
    "_change_revision": 0,
    "_is_fork": false,
    "kernelspec": {
      "display_name": "Python 3",
      "language": "python",
      "name": "python3"
    },
    "language_info": {
      "codemirror_mode": {
        "name": "ipython",
        "version": 3
      },
      "file_extension": ".py",
      "mimetype": "text/x-python",
      "name": "python",
      "nbconvert_exporter": "python",
      "pygments_lexer": "ipython3",
      "version": "3.6.6"
    },
    "colab": {
      "provenance": [],
      "include_colab_link": true
    }
  },
  "cells": [
    {
      "cell_type": "markdown",
      "metadata": {
        "id": "view-in-github",
        "colab_type": "text"
      },
      "source": [
        "<a href=\"https://colab.research.google.com/github/barisgg/blogz/blob/master/IDS_Houses_Regression_Instructor.ipynb\" target=\"_parent\"><img src=\"https://colab.research.google.com/assets/colab-badge.svg\" alt=\"Open In Colab\"/></a>"
      ]
    },
    {
      "cell_type": "markdown",
      "metadata": {
        "_cell_guid": "e3bc4854-2787-eae1-950d-2742ad3d7db2",
        "_uuid": "d507f816cc74a88c9afefd02cf225d1a7dd6461f",
        "id": "Dzmqr3Hf5Exz"
      },
      "source": [
        "# Introduction to Linear Regression, or, How to Buy a Home 🏡"
      ]
    },
    {
      "cell_type": "markdown",
      "metadata": {
        "_cell_guid": "8ca352d7-08aa-36b4-fb2d-3c9854a8d86a",
        "_uuid": "014f5c099a26d9232f9d0d6ca85d5c02b812c98a",
        "id": "p51tpRAz5Exz"
      },
      "source": [
        "Imagine this...\n",
        "\n",
        "You've been working for a year as a data expert and finally save enough money to buy a house of your own. Being a thrifty data expert, you want to get the best bang for your buck.\n",
        "\n",
        "Imagine that you also have some data on housing prices and other factors that constitute a bunch of different houses. You realize that you can use that data to make sure you get a good deal on a new home. In particular, you can figure out exactly how much you should pay for a specific type of house. This can be especially helpful if you run into a tricky realtor!\n",
        "\n",
        "But the question is how can you use the data to figure out how much you should pay?\n",
        "\n",
        "You can use Linear Regression!\n",
        "\n",
        "\n",
        "\n",
        "**In this notebook, we'll:**\n",
        "- Fetch and explore a data set of houses\n",
        "- Visualize our dataset with graphs and heatmaps\n",
        "- Use linear regression to make predictions\n",
        "- Use multiple linear regression to make better predictions\n",
        "- Try some other regression models!\n",
        "\n",
        "Now, it's time to have fun!"
      ]
    },
    {
      "cell_type": "markdown",
      "metadata": {
        "id": "uOGnXZxBCeiH"
      },
      "source": [
        "## 📑 Getting the Data"
      ]
    },
    {
      "cell_type": "code",
      "metadata": {
        "_cell_guid": "2df621e0-e03c-7aaa-6e08-40ed1d7dfecc",
        "_execution_state": "idle",
        "_uuid": "d581f6797b9fde1580271358d484df67bf6b14a1",
        "collapsed": true,
        "id": "t_fsmGj35Ex0"
      },
      "source": [
        "#@title Run this to import libraries and your data! { display-mode: \"form\" }\n",
        "# importing in different libraries that we can use\n",
        "import pandas as pd\n",
        "import numpy as np\n",
        "import matplotlib.pyplot as plt\n",
        "import seaborn as sns\n",
        "from scipy.stats import norm\n",
        "from sklearn.preprocessing import StandardScaler\n",
        "from scipy import stats\n",
        "import warnings\n",
        "import gdown\n",
        "warnings.filterwarnings('ignore')\n",
        "%matplotlib inline\n",
        "\n",
        "gdown.download('https://drive.google.com/uc?id=1hedNcBjXyfZ_2rDuyh9d7uMOElHF9J-H', 'housing_data.csv', True)\n"
      ],
      "execution_count": null,
      "outputs": []
    },
    {
      "cell_type": "markdown",
      "metadata": {
        "id": "-tJ_UOBkEuWf"
      },
      "source": [
        "We will use a very common data science library called Pandas to load the dataset into this notebook. Using pandas we can read our datafile (`housing_data.csv`) with the line below. Our data will then be assigned and stored under the variable `housing_data`.  \n"
      ]
    },
    {
      "cell_type": "code",
      "metadata": {
        "_cell_guid": "d56d5e71-4277-7a74-5306-7d5af4c7f263",
        "_execution_state": "idle",
        "_uuid": "827a72128cd211cf6af16b003e7c09951e3f2b1e",
        "collapsed": true,
        "id": "dPB71lHN5Ex0"
      },
      "source": [
        "# read our data in using 'pd.read_csv('file')'\n",
        "data_path  = 'housing_data.csv'\n",
        "housing_data = pd.read_csv(data_path)"
      ],
      "execution_count": null,
      "outputs": []
    },
    {
      "cell_type": "markdown",
      "metadata": {
        "id": "mjHz8L7VDdQH"
      },
      "source": [
        "## 🖊 Exploring the Data\n",
        "Now that we have the data loaded into the `housing_data` variable, let's take a look at what features we have available to us and the size of our data set.\n",
        "\n",
        "Running the cell below will output all of the column names in our data set, and the shape of the data set."
      ]
    },
    {
      "cell_type": "code",
      "metadata": {
        "_cell_guid": "02250c81-7e15-c195-2e86-5adbd15c9d30",
        "_execution_state": "idle",
        "_uuid": "10814ba44786b5fea5e333324c6fe54729cabf33",
        "collapsed": true,
        "id": "2GZlekJh5Ex1"
      },
      "source": [
        "# check the decoration\n",
        "print(housing_data.columns)\n",
        "print(housing_data.shape)"
      ],
      "execution_count": null,
      "outputs": []
    },
    {
      "cell_type": "markdown",
      "metadata": {
        "id": "O2eHTD_aDnGX"
      },
      "source": [
        "Wow, that's a lot of features!"
      ]
    },
    {
      "cell_type": "code",
      "metadata": {
        "id": "Dcu2NigmD-bg"
      },
      "source": [
        "#@title What does the data shape represent? { display-mode: \"form\" }\n",
        "\n",
        "#@markdown What does the bold number (**2920**, 36) represent?\n",
        "Dimension_0  = \"fill in\" #@param [\"number of features\", \"price of houses\",\"number of houses\",\"fill in\"]\n",
        "\n",
        "#@markdown What does the bold number (2920, **36**) represent?\n",
        "Dimension_1  = \"fill in\" #@param [\"number of features\", \"price of houses\",\"number of houses\",\"fill in\"]\n",
        "\n",
        "if Dimension_0 == 'number of houses':\n",
        "  print(\"Yes! Dimension_0 is the number of houses in our data set.\")\n",
        "else:\n",
        "  print(\"Try again for Dimension_0!\")\n",
        "\n",
        "if Dimension_1 == \"number of features\":\n",
        "  print(\"Yes! Dimension_1 is the number of features in our data set.\")\n",
        "else:\n",
        "  print(\"Try again for Dimension_1!\")\n",
        "\n"
      ],
      "execution_count": null,
      "outputs": []
    },
    {
      "cell_type": "markdown",
      "metadata": {
        "id": "rf32D3PcSqKX"
      },
      "source": [
        "Now that we know what our features are and how big our data set is, we can look at some data! Running the cell below will output the first five rows in the data set. Each row corresponds to a specific house for sale and each column details information about that house. See if you can already spot any pieces of information that might help you find your perfect home."
      ]
    },
    {
      "cell_type": "code",
      "metadata": {
        "id": "6rBmfoT_CavG"
      },
      "source": [
        "# let's look at our 'dataframe'. Dataframes are just like google or excel spreadsheets.\n",
        "# use the 'head' method to show the first five rows of the table as well as their names.\n",
        "housing_data.head()"
      ],
      "execution_count": null,
      "outputs": []
    },
    {
      "cell_type": "markdown",
      "metadata": {
        "id": "yGQcUR0xaXgc"
      },
      "source": [
        "Here is a visual representation of the data set above. ![housecharts.png](https://i.postimg.cc/Hkdk3r9B/Screen-Shot-2021-09-29-at-6-56-18-PM.png)"
      ]
    },
    {
      "cell_type": "markdown",
      "metadata": {
        "id": "qDzPBS7THGiH"
      },
      "source": [
        "There's a TON going on here. So how can we narrow down our problem?"
      ]
    },
    {
      "cell_type": "markdown",
      "metadata": {
        "_cell_guid": "79d22981-dfd7-a25f-9a78-5436213207e2",
        "_uuid": "ba13c267e3aacbef23dfbcc0ab05f002d7835e0c",
        "id": "HKJ3AypK5Ex1"
      },
      "source": [
        "## 💻 Let's take a look at what features are available to us!\n",
        "\n",
        "In order to understand our data, we can look at each variable and try to understand their meaning and relevance to this problem. This process is time-consuming, but it will give us the flavour of our dataset.\n"
      ]
    },
    {
      "cell_type": "markdown",
      "metadata": {
        "id": "6SewYys3X3AR"
      },
      "source": [
        "\n",
        "In order to have some discipline in our analysis, we can create a spreadsheet with the following columns:\n",
        "* <b>Variable</b> - Variable name.\n",
        "* <b>Type</b> - Identification of the variables' type. There are two possible values for this field: 'numerical' or 'categorical'. By 'numerical' we mean variables for which the values are numbers, and by 'categorical' we mean variables for which the values are categories.\n",
        "* <b>Expectation</b> - Our expectation about the variable influence in 'SalePrice'. We can use a categorical scale with 'High', 'Medium' and 'Low' as possible values. We'll fill this out before doing any plotting.\n",
        "* <b>Conclusion</b> - Our conclusions about the importance of the variable, after we give a quick look at the data. We can keep with the same categorical scale as in 'Expectation'. We'll fill this out after taking a closer look at our data.\n",
        "* <b>Comments</b> - Any general comments that occured to us.\n",
        "\n",
        "To fill the 'Expectation' column, we should read the description of all the variables and, one by one, ask ourselves:\n",
        "\n",
        "* Do we think about this variable when we are buying a house? (e.g. When we think about the house of our dreams, do we care about that feature?).\n",
        "* If so, how important would this variable be? (e.g. What is the impact of having `Excellent` material on the exterior instead of `Poor`? And of having `Excellent` instead of `Good`?).\n",
        "* Is this information already described in any other variable? (e.g. If `LandContour` gives the flatness of the property, do we really need to know the `LandSlope`?).\n",
        "\n",
        "After this exercise, we can filter the spreadsheet and look carefully to the variables with **High** 'Expectation'. Then, we can rush into some scatter plots between those variables and `SalePrice`, filling in the 'Conclusion' column which is just the correction of our expectations.\n",
        "\n",
        "## [The instructor will make a copy of this spreadsheet and we'll fill it out together!](https://docs.google.com/spreadsheets/d/1LVLKdtMg9GyybMGhcJsv49UzCx1Uy67bNIm5dVocYQQ/edit?usp=sharing)\n",
        "\n"
      ]
    },
    {
      "cell_type": "markdown",
      "metadata": {
        "id": "73GHlrWnXIsw"
      },
      "source": [
        "You might notice that `SalePrice` isn't listed on the sheet. That's because `SalePrice` isn't a feature, it's the value we're trying to estimate!"
      ]
    },
    {
      "cell_type": "markdown",
      "metadata": {
        "_cell_guid": "3ef87d93-0ea6-8cb2-aa2d-90d5b56a1ca1",
        "_uuid": "39d104c7e40b3f66a0f6e2330119332b301be7bf",
        "id": "cO38403v5Ex5"
      },
      "source": [
        "## First things first: analyzing `SalePrice`\n",
        "\n",
        "The `SalePrice` column is the reason of our quest, so it's really important that we understand what's going on with it!"
      ]
    },
    {
      "cell_type": "code",
      "metadata": {
        "_cell_guid": "54452e23-f4d3-919f-c734-80a35dc9ae08",
        "_execution_state": "idle",
        "_uuid": "5c15e1bd10b8e71c0b1d62bdb260882585a35579",
        "collapsed": true,
        "id": "ho_iX5Ka5Ex5"
      },
      "source": [
        "# descriptive statistics summary\n",
        "housing_data['SalePrice'].describe()"
      ],
      "execution_count": null,
      "outputs": []
    },
    {
      "cell_type": "markdown",
      "metadata": {
        "_cell_guid": "6af460e5-1be2-6618-d624-2a4423bd501f",
        "_uuid": "bb3005e8025ea75b0b4d1ef624927e7e21833ea1",
        "id": "FHltqqHj5Ex6"
      },
      "source": [
        "It seems that the minimum housing price is larger than zero. Excellent! This is important for us to know (since a negative price could potentially mess up our model!).\n",
        "\n",
        "Now we can run the cell below to take a look at the distribution of house prices."
      ]
    },
    {
      "cell_type": "code",
      "metadata": {
        "_cell_guid": "6bbea362-77b6-5385-f0a8-fb53afd088b7",
        "_execution_state": "idle",
        "_uuid": "2f78c77caa7290298138caf167672e62d3bc5a67",
        "collapsed": true,
        "id": "vIeBAHMf5Ex6"
      },
      "source": [
        "# Using the seaborn library to plot a histogram\n",
        "sns.distplot(housing_data['SalePrice']);"
      ],
      "execution_count": null,
      "outputs": []
    },
    {
      "cell_type": "markdown",
      "metadata": {
        "_cell_guid": "f4e257f0-1dfd-0774-b346-f2a1b2a068cc",
        "_uuid": "f84e60c8b934615e53af10823558fe42753ac25d",
        "id": "ONPrY9hj5Ex6"
      },
      "source": [
        "### Question 💡\n",
        "Data science is about understanding stories by looking at data visualizations. What information can you get from the histogram above?\n"
      ]
    },
    {
      "cell_type": "code",
      "metadata": {
        "_cell_guid": "36766737-f1a3-fe40-dbec-63c31be4d5e0",
        "_execution_state": "idle",
        "_uuid": "2cb253768dcd75b9a450ee264626ce69c808096a",
        "collapsed": true,
        "id": "npR7_XkJ5Ex6"
      },
      "source": [
        "#@title What does the histogram tell you? { display-mode: \"form\" }\n",
        "\n",
        "histogram_insights  = \"\" #@param {type:\"string\"}\n",
        "\n",
        "\n"
      ],
      "execution_count": null,
      "outputs": []
    },
    {
      "cell_type": "markdown",
      "metadata": {
        "_cell_guid": "c477edc1-b472-f55b-ba98-514159dbda2e",
        "_uuid": "e0368771327b15853b3e306f39eb93d209594e75",
        "id": "W_ceIYjd5Ex6"
      },
      "source": [
        "## Feature Plotting and Visualization"
      ]
    },
    {
      "cell_type": "markdown",
      "metadata": {
        "id": "dcKbwUlapLIp"
      },
      "source": [
        "### Visualizing Numerical Data"
      ]
    },
    {
      "cell_type": "markdown",
      "metadata": {
        "_cell_guid": "b02d4be5-ef2c-bd5c-ff71-2c790b3637ce",
        "_uuid": "c6edbfb50a21f4c94052f86f6926cfdc35e7ca22",
        "id": "wJaMj3KX5Ex6"
      },
      "source": [
        "Now, we can take a closer look at some of the other features in the data set. One way to look at the data is to use a scatter plot. A scatter plot is a two-dimensional data visualization that uses dots to represent the values obtained for two different variables - one plotted along the x-axis and the other plotted along the y-axis.  \n",
        "\n",
        "A scatter plot is used to understand the relationship between two continuous (numerical) variables.\n",
        "\n",
        "As an example, we can look at `SalePrice` vs. `TotalBsmtSF`."
      ]
    },
    {
      "cell_type": "code",
      "metadata": {
        "id": "Lm8yChrZcVtE"
      },
      "source": [
        "# Each dot is a single example (row) from the dataframe, with its\n",
        "# x-value as `TotalBsmtSF` and its y-value as `SalePrice`\n",
        "# To use the  `scatterplot` tool from the `seaborn` plotting package... do the following:\n",
        "# sns.scatterplot(x = 'feature_column', y = 'target_column', data = source_data_frame)\n",
        "\n",
        "sns.scatterplot(x = 'TotalBsmtSF', y = 'SalePrice', data = housing_data)"
      ],
      "execution_count": null,
      "outputs": []
    },
    {
      "cell_type": "markdown",
      "metadata": {
        "id": "lhpNOsvkodHS"
      },
      "source": [
        "#### Question 💡"
      ]
    },
    {
      "cell_type": "code",
      "metadata": {
        "id": "-mDZoCwmoljC"
      },
      "source": [
        "#@title What is going on in the scatterplot above? { display-mode: \"form\" }\n",
        "\n",
        "scatterplot_insights  = \"\" #@param {type:\"string\"}\n",
        "\n",
        "\n"
      ],
      "execution_count": null,
      "outputs": []
    },
    {
      "cell_type": "markdown",
      "metadata": {
        "id": "b73k3tRPpH0t"
      },
      "source": [
        "### Visualizing Categorical Data"
      ]
    },
    {
      "cell_type": "markdown",
      "metadata": {
        "id": "NFSxTiswocDh"
      },
      "source": [
        "`CentralAir` is another one of our variables. It can either be `N`or `Y`.  This is different than what we saw with `OverallQual` in that `CentralAir` is NOT a number.\n",
        "\n",
        "We call variables like `CentralAir` categorical variables.\n",
        "\n",
        "There's a specific type of plot for visualizing categorical variables. This is `catplot`. Let's try it out!"
      ]
    },
    {
      "cell_type": "code",
      "metadata": {
        "id": "PfcgMDuzpgHd"
      },
      "source": [
        "# you can do the same thing with categorical variables!! but you will use catplot instead\n",
        "sns.catplot(x = 'CentralAir', y = 'SalePrice', data = housing_data)"
      ],
      "execution_count": null,
      "outputs": []
    },
    {
      "cell_type": "markdown",
      "metadata": {
        "id": "FW6Inbr6ptgi"
      },
      "source": [
        "#### Question 💡\n"
      ]
    },
    {
      "cell_type": "code",
      "metadata": {
        "id": "x4xykYl-pypH"
      },
      "source": [
        "#@title What do you take away from the plot above? { display-mode: \"form\" }\n",
        "\n",
        "catplot_insights  = \"\" #@param {type:\"string\"}"
      ],
      "execution_count": null,
      "outputs": []
    },
    {
      "cell_type": "markdown",
      "metadata": {
        "id": "GRad4dFKqqT3"
      },
      "source": [
        "Variables like `OverallQual` can be categorized either way (as numerical or categorical)!"
      ]
    },
    {
      "cell_type": "markdown",
      "metadata": {
        "id": "YJmhpe3Jq51i"
      },
      "source": [
        "#### Question 💡\n"
      ]
    },
    {
      "cell_type": "code",
      "metadata": {
        "id": "mcW5ui3Cq6L5"
      },
      "source": [
        "#@title Justify that statement to yourself. Why does it make sense? { display-mode: \"form\" }\n",
        "\n",
        "OverallQual_variable_type  = \"\" #@param {type:\"string\"}"
      ],
      "execution_count": null,
      "outputs": []
    },
    {
      "cell_type": "markdown",
      "metadata": {
        "id": "CfgcsRDkrFod"
      },
      "source": [
        "We can take a closer look at `OverallQual` with a special type of plot called a `boxplot`. In this plot, instead of plotting every individual point, it will show you where the data is concentrated."
      ]
    },
    {
      "cell_type": "code",
      "metadata": {
        "id": "_Q9whXuMrUmm"
      },
      "source": [
        "sns.boxplot(x = 'OverallQual', y = 'SalePrice', data = housing_data)"
      ],
      "execution_count": null,
      "outputs": []
    },
    {
      "cell_type": "markdown",
      "metadata": {
        "id": "Dakz6Y8Wr1F9"
      },
      "source": [
        "### Your turn!\n",
        "\n",
        "Use the examples above to plot `SalePrice` vs. `GrLivArea`. What kind of relationship do these two variables have?"
      ]
    },
    {
      "cell_type": "code",
      "metadata": {
        "id": "nxHuv09esKSH"
      },
      "source": [
        "# YOUR CODE HERE\n"
      ],
      "execution_count": null,
      "outputs": []
    },
    {
      "cell_type": "code",
      "metadata": {
        "_cell_guid": "db040973-0adc-e126-e657-1d8934b5a5c8",
        "_execution_state": "idle",
        "_uuid": "91160363898f5caeee965a1aa81eb3abb7dcd760",
        "collapsed": true,
        "cellView": "form",
        "id": "-zAdGTQz5Ex7"
      },
      "source": [
        "#@title Instructor Solution\n",
        "sns.scatterplot(x = 'GrLivArea', y = 'SalePrice', data=housing_data);"
      ],
      "execution_count": null,
      "outputs": []
    },
    {
      "cell_type": "markdown",
      "metadata": {
        "id": "Uj2EXos3sO6_"
      },
      "source": [
        "#### Question 💡"
      ]
    },
    {
      "cell_type": "code",
      "metadata": {
        "id": "TKQR5lC_sTbv"
      },
      "source": [
        "#@title What kind of relationship to `SalePrice` and `GrLivArea` have? { display-mode: \"form\" }\n",
        "\n",
        "gla_relationship  = \"\" #@param {type:\"string\"}"
      ],
      "execution_count": null,
      "outputs": []
    },
    {
      "cell_type": "markdown",
      "metadata": {
        "id": "5IP1_lbqcnDA"
      },
      "source": [
        "Use the example above to make a `boxplot` for plotting `SalePrice` VS. `YearBuilt`. What kind of relationship do these variables have?"
      ]
    },
    {
      "cell_type": "code",
      "metadata": {
        "id": "iFPiTN6Acrmg"
      },
      "source": [
        "f, ax = plt.subplots(figsize=(20, 8))\n",
        "\n",
        "# YOUR CODE HERE: create the boxplot\n",
        "\n",
        "# END\n",
        "\n",
        "plt.xticks(rotation=90);"
      ],
      "execution_count": null,
      "outputs": []
    },
    {
      "cell_type": "code",
      "metadata": {
        "id": "rM9tk8n6cry9",
        "cellView": "form"
      },
      "source": [
        "#@title Instructor Solution\n",
        "f, ax = plt.subplots(figsize=(20, 8))\n",
        "sns.boxplot(x = 'YearBuilt', y = 'SalePrice', data = housing_data)\n",
        "plt.xticks(rotation=90);"
      ],
      "execution_count": null,
      "outputs": []
    },
    {
      "cell_type": "markdown",
      "metadata": {
        "id": "uYKccw7cdPJp"
      },
      "source": [
        "#### Question 💡"
      ]
    },
    {
      "cell_type": "code",
      "metadata": {
        "id": "xvaeLIwkdPJu"
      },
      "source": [
        "#@title What kind of relationship to `SalePrice` and `YearBuilt` have? { display-mode: \"form\" }\n",
        "\n",
        "yb_relationship  = \"\" #@param {type:\"string\"}"
      ],
      "execution_count": null,
      "outputs": []
    },
    {
      "cell_type": "markdown",
      "metadata": {
        "_cell_guid": "b75e5f62-307b-f5f4-79ac-38815a7a6da4",
        "_uuid": "aa4ed71a6d1003513b4e31adacd0e7a491671f0f",
        "id": "GuA--LMF5Ex9"
      },
      "source": [
        "## 🌶 Variable Correlation"
      ]
    },
    {
      "cell_type": "markdown",
      "metadata": {
        "_cell_guid": "2ea2f896-48a6-db39-0684-6a029d8fda60",
        "_uuid": "d67e5bf6f2c4b6acb617c4cdcee0dc5c3f79d9b8",
        "id": "dRHwawKO5Ex9"
      },
      "source": [
        "Until now we just followed our intuition and looked at some variables we thought might be important. Let's do a more objective analysis into our variables to find out which ones are most correlated to the `SalePrice`."
      ]
    },
    {
      "cell_type": "markdown",
      "metadata": {
        "_cell_guid": "0eb27879-4f54-6fd7-e07a-156eae1aef7f",
        "_uuid": "4816779faf59b3eebf954c36bb3c85ff7dfc87a9",
        "id": "HlzTuAN45Ex9"
      },
      "source": [
        "### Correlation Matrices\n",
        "\n",
        "To explore our variables in more depth, we will start by looking at a few things:\n",
        "* Overall correlation matrix (heatmap style).\n",
        "* 'SalePrice' correlation matrix (zoomed heatmap style).\n",
        "* Scatter plots between the most correlated variables."
      ]
    },
    {
      "cell_type": "markdown",
      "metadata": {
        "_cell_guid": "06f8d02c-d779-f8fd-7f48-ba3c5166eda8",
        "_uuid": "bf469f1030a8768f73a18e5ad59db43c4241c603",
        "id": "HmwWk5l55Ex9"
      },
      "source": [
        "#### Correlation matrix\n",
        "What a correlation matrix does is show us how similar two columns in the data set are. We can get the correlation matrix for a data set by running `data.corr()`, then use a seaborn `heatmap` to plot it."
      ]
    },
    {
      "cell_type": "code",
      "metadata": {
        "_cell_guid": "4eb7a6ef-adf5-6abf-947d-c95afdc477b8",
        "_execution_state": "idle",
        "_uuid": "5dfee22210f5a126ea34ca6475bb4f365d41317b",
        "collapsed": true,
        "id": "oGJ_ek6z5Ex9"
      },
      "source": [
        "# correlation matrix\n",
        "corr_matrix = housing_data.corr()\n",
        "f, ax = plt.subplots(figsize=(12, 9))\n",
        "sns.heatmap(corr_matrix, vmax=.8, square=True);"
      ],
      "execution_count": null,
      "outputs": []
    },
    {
      "cell_type": "markdown",
      "metadata": {
        "id": "Bf-sUCbnupVH"
      },
      "source": [
        "#### Questions 💡"
      ]
    },
    {
      "cell_type": "code",
      "metadata": {
        "id": "TnOpDnvruunY"
      },
      "source": [
        "#@title Which variables seem to be the most correlated with each other? { display-mode: \"form\" }\n",
        "\n",
        "correlated_variables  = \"\" #@param {type:\"string\"}"
      ],
      "execution_count": null,
      "outputs": []
    },
    {
      "cell_type": "code",
      "metadata": {
        "id": "EQJHHzVbu9TQ"
      },
      "source": [
        "#@title Which variables are the most anti-correlated with each other? { display-mode: \"form\" }\n",
        "\n",
        "anti_correlated_variables  = \"\" #@param {type:\"string\"}"
      ],
      "execution_count": null,
      "outputs": []
    },
    {
      "cell_type": "code",
      "metadata": {
        "id": "Sy3otWL0vapP"
      },
      "source": [
        "#@title Why are the heatmap colors reflected over the diagonal axis? { display-mode: \"form\" }\n",
        "\n",
        "reflected_colors  = \"\" #@param {type:\"string\"}"
      ],
      "execution_count": null,
      "outputs": []
    },
    {
      "cell_type": "code",
      "metadata": {
        "id": "zLMm2FYbvKNA"
      },
      "source": [
        "#@title How can we tell which variables are most correlated with `SalePrice`? { display-mode: \"form\" }\n",
        "\n",
        "variables  = \"\" #@param {type:\"string\"}"
      ],
      "execution_count": null,
      "outputs": []
    },
    {
      "cell_type": "markdown",
      "metadata": {
        "_cell_guid": "977fb7af-70e1-bfb8-e381-3176ec0321b0",
        "_uuid": "b6eb357b201b4d2a9e81f4373cadb9aeccc2482c",
        "id": "7g9d7jXB5Ex9"
      },
      "source": [
        "Even though this gives us a lot of information, there's still a lot here that we don't necessarily care about. Let's zoom in on the correlations and only look at the heatmap between `SalePrice` and the 10 most-correlated variables."
      ]
    },
    {
      "cell_type": "markdown",
      "metadata": {
        "_cell_guid": "9b557956-df91-bab3-0e8b-d8ffc054470f",
        "_uuid": "6ef7d7b7747807431aa9827046c76bfa3d34ffe1",
        "id": "AGwRagSU5Ex9"
      },
      "source": [
        "#### 'SalePrice' correlation matrix (zoomed heatmap style)\n",
        "Run the cell below to see the heatmap between the top variables most correlated to `SalePrice`. If you'd like to see more or less variables, change the `k` variable initialized at the top."
      ]
    },
    {
      "cell_type": "code",
      "metadata": {
        "_cell_guid": "bc33db9e-9ee3-6cfe-7643-a2aff5a9234d",
        "_execution_state": "idle",
        "_uuid": "a6ee47c540ce9f3f1d2af6efe0b030e76e3a3f7f",
        "collapsed": true,
        "id": "EZRC8HVU5Ex9"
      },
      "source": [
        "k = 10 # number of variables for heatmap\n",
        "cols = corr_matrix.nlargest(k, 'SalePrice')['SalePrice'].index # gets the k largest ones\n",
        "new_corr_matrix = housing_data[cols].corr() # remaking corr matrix with columns we care about\n",
        "f, ax = plt.subplots(figsize=(12, 9))\n",
        "sns.heatmap(new_corr_matrix, vmax=.8, square=True, annot=True, fmt='.2f', ax=ax);"
      ],
      "execution_count": null,
      "outputs": []
    },
    {
      "cell_type": "markdown",
      "metadata": {
        "_cell_guid": "f5c23b8a-aad9-809f-0fdf-f758f926f5c9",
        "_uuid": "c10a0a0bd55e55822726c78a59ab2bb6d9763f68",
        "id": "ymac2PWI5Ex9"
      },
      "source": [
        "These are the variables most correlated with `SalePrice`. Go ahead and use this information (and the heatmap from above) to <font color=\"#de3023\">update the conclusion column on the Google Sheet!\n",
        "</font>\n",
        "\n",
        "Once you're done updating your sheet, answer the questions below."
      ]
    },
    {
      "cell_type": "markdown",
      "metadata": {
        "id": "T3tBlA1p0Q8t"
      },
      "source": [
        "#### Questions 💡"
      ]
    },
    {
      "cell_type": "code",
      "metadata": {
        "id": "DATB8wuj0GuQ"
      },
      "source": [
        "#@title Are there any variables you're surprised to see here? { display-mode: \"form\" }\n",
        "\n",
        "surprise_variables  = \"\" #@param {type:\"string\"}"
      ],
      "execution_count": null,
      "outputs": []
    },
    {
      "cell_type": "code",
      "metadata": {
        "id": "rhAJmYg30VV1"
      },
      "source": [
        "#@title Are there any variables here that are similar to each other? { display-mode: \"form\" }\n",
        "\n",
        "similar_variables  = \"\" #@param {type:\"string\"}"
      ],
      "execution_count": null,
      "outputs": []
    },
    {
      "cell_type": "markdown",
      "metadata": {
        "_cell_guid": "3bdb34db-cf47-d8c8-b857-7031828808ed",
        "_uuid": "28e0b3f8ecee68390a40bd653d7370c20615ad5d",
        "id": "M2hf797J5Ex-"
      },
      "source": [
        "#### Scatter plots between `SalePrice` and correlated variables"
      ]
    },
    {
      "cell_type": "markdown",
      "metadata": {
        "_cell_guid": "f49b1a3a-2edf-d582-e4ed-3b6188675fbc",
        "_uuid": "cbebb4763aa2a977078a1fba424073b3ea1ecd61",
        "id": "7lNBlAWM5Ex-"
      },
      "source": [
        "Now that we've found the variables that correlate, we can plot them all and take a look at their relationship with the `SalePrice`.\n",
        "\n",
        "Before we do that, we want to make sure we're not repeating any information! There were three pairs of variables above that all had really high correlations with each other, and we only need to keep one variable from each pair. We should keep the variable from the pair that has the strongest correlation with `SalePrice`.\n",
        "\n",
        "Choose the variables to keep, then run the cells to check if you're right. If you're confused about the answer, ask your instructor!"
      ]
    },
    {
      "cell_type": "code",
      "metadata": {
        "id": "BH3lpnXi2QUQ",
        "cellView": "form"
      },
      "source": [
        "keep1 = \"fill in\" #@param [\"fill in\", \"GarageCars\", \"GarageArea\"]\n",
        "\n",
        "if keep1==\"GarageCars\":\n",
        "  print(\"Yes! We want to keep GarageCars.\")\n",
        "else:\n",
        "  print(\"Try again!\")"
      ],
      "execution_count": null,
      "outputs": []
    },
    {
      "cell_type": "code",
      "metadata": {
        "id": "BdGaFY2o2_wc",
        "cellView": "form"
      },
      "source": [
        "keep2 = \"fill in\" #@param [\"fill in\", \"TotalBsmtSF\", \"1stFloor\"]\n",
        "\n",
        "if keep2==\"TotalBsmtSF\":\n",
        "  print(\"Yes! We want to keep TotalBsmtSF. We can actually choose either value here!\")\n",
        "else:\n",
        "  print(\"Yes! We want to keep 1stFloor. We can actually choose either value here!\")"
      ],
      "execution_count": null,
      "outputs": []
    },
    {
      "cell_type": "code",
      "metadata": {
        "id": "tyVDZsqx2_Xt",
        "cellView": "form"
      },
      "source": [
        "keep3 = \"fill in\" #@param [\"fill in\", \"TotRmsAbvGrd\", \"GrLivArea\"]\n",
        "\n",
        "if keep3==\"GrLivArea\":\n",
        "  print(\"Yes! We want to keep GrLivArea.\")\n",
        "else:\n",
        "  print(\"Try again!\")"
      ],
      "execution_count": null,
      "outputs": []
    },
    {
      "cell_type": "markdown",
      "metadata": {
        "id": "Uw8a5r1p3pQD"
      },
      "source": [
        "Once you've figured out which columns to keep out of the \"twins\", fill in the 6 columns to the list below. Run the cell to see a bunch of plots!"
      ]
    },
    {
      "cell_type": "code",
      "metadata": {
        "id": "atEjwtGB3kI9"
      },
      "source": [
        "# scatterplot\n",
        "sns.set()\n",
        "\n",
        "# YOUR CODE HERE: add in the 6 other columns (keep SalePrice)\n",
        "cols = ['SalePrice']\n",
        "\n",
        "sns.pairplot(housing_data[cols], size = 2.5)\n",
        "plt.show();"
      ],
      "execution_count": null,
      "outputs": []
    },
    {
      "cell_type": "code",
      "metadata": {
        "_cell_guid": "5a8db5de-d3f9-9a28-f220-bb05d51c53d0",
        "_execution_state": "idle",
        "_uuid": "cdafd230216fd04cc4ecf635967925da0bce9195",
        "collapsed": true,
        "cellView": "form",
        "id": "4MijPh-m5Ex-"
      },
      "source": [
        "#@title Instructor Solution\n",
        "sns.set()\n",
        "# YOUR CODE HERE: add in the 6 other columns (keep SalePrice)\n",
        "cols = ['SalePrice', 'OverallQual', 'GrLivArea', 'GarageCars', 'TotalBsmtSF', 'FullBath', 'YearBuilt']\n",
        "sns.pairplot(housing_data[cols], size = 2.5)\n",
        "plt.show();"
      ],
      "execution_count": null,
      "outputs": []
    },
    {
      "cell_type": "markdown",
      "metadata": {
        "id": "p6D6D2E04LAv"
      },
      "source": [
        "#### Questions 💡"
      ]
    },
    {
      "cell_type": "code",
      "metadata": {
        "id": "H4aA0I8E4LA0"
      },
      "source": [
        "#@title What plots here are interesting? Why? { display-mode: \"form\" }\n",
        "\n",
        "interesting_plots  = \"\" #@param {type:\"string\"}"
      ],
      "execution_count": null,
      "outputs": []
    },
    {
      "cell_type": "markdown",
      "metadata": {
        "_cell_guid": "9ce00498-d5e6-9e35-debc-8d507002d461",
        "_uuid": "726efbb348d1022cabb171f622d7b4e01fe8c778",
        "id": "fdHEJq9T5Ex-"
      },
      "source": [
        "## Missing Data\n",
        "\n",
        "Before we jump into regression, we have to take a look at what data is missing.\n",
        "\n",
        "Important questions when thinking about missing data:\n",
        "\n",
        "* How prevalent is the missing data?\n",
        "* Is missing data random or does it have a pattern?\n",
        "\n",
        "The answer to these questions is important for practical reasons because missing data can imply a reduction of the sample size. This can prevent us from proceeding with the analysis."
      ]
    },
    {
      "cell_type": "code",
      "metadata": {
        "_cell_guid": "ca2f89e7-1c16-c3ae-6fe0-ab4eaf7e52a1",
        "_execution_state": "idle",
        "_uuid": "664e03dc1434fa2c4eb730ea36ab60e37f13cd3f",
        "collapsed": true,
        "id": "j1hroEl05Ex-"
      },
      "source": [
        "# missing data\n",
        "total = housing_data.isnull().sum().sort_values(ascending=False)\n",
        "percent = (housing_data.isnull().sum()/housing_data.isnull().count()).sort_values(ascending=False)\n",
        "missing_data = pd.concat([total, percent], axis=1, keys=['Total', 'Percent'])\n",
        "missing_data = missing_data.drop(['SalePrice'])\n",
        "missing_data.head(20)"
      ],
      "execution_count": null,
      "outputs": []
    },
    {
      "cell_type": "markdown",
      "metadata": {
        "_cell_guid": "42bf6c61-9836-5c25-ff2f-1219e96f60a2",
        "_uuid": "c7607aaf8378eac11a8a8395dcd4a2346c22f5ea",
        "id": "Ph9J2h2v5Ex-"
      },
      "source": [
        "Let's analyse this to understand how to handle the missing data.\n",
        "\n",
        "We'll consider that when more than 15% of the data is missing, we should delete the corresponding variable and pretend it never existed. This means that we will not try any trick to fill the missing data in these cases. According to this, there are a few variables that we should delete.\n"
      ]
    },
    {
      "cell_type": "code",
      "metadata": {
        "_cell_guid": "f43f72c5-5457-1f47-e8ef-502db4355086",
        "_execution_state": "idle",
        "_uuid": "726617e295ee6bfe26ccf277323cc68ef52dc61b",
        "collapsed": true,
        "id": "AKv0o2eF5Ex-"
      },
      "source": [
        "# YOUR CODE HERE: put in the names of the columns we should be dropping\n",
        "housing_data = housing_data.drop(columns=[ ])\n",
        "\n",
        "# END YOUR CODE\n",
        "\n",
        "housing_data = housing_data.replace([np.inf, -np.inf], np.nan)\n",
        "indices = np.where(housing_data['SalePrice'].isnull())\n",
        "housing_data = housing_data.drop(indices[0])\n",
        "housing_data = housing_data.fillna(0) # fill the remaining null values with 0"
      ],
      "execution_count": null,
      "outputs": []
    },
    {
      "cell_type": "code",
      "metadata": {
        "cellView": "form",
        "id": "yuQkJuqemOu8"
      },
      "source": [
        "#@title Instructor Solution\n",
        "# YOUR CODE HERE: put in the names of the columns we should be dropping\n",
        "housing_data = housing_data.drop(columns=['PoolQC', 'MiscFeature'])\n",
        "\n",
        "housing_data = housing_data.replace([np.inf, -np.inf], np.nan)\n",
        "indices = np.where(housing_data['SalePrice'].isnull())\n",
        "housing_data = housing_data.drop(indices[0])\n",
        "housing_data = housing_data.fillna(0) # fill the remaining null values with 0"
      ],
      "execution_count": null,
      "outputs": []
    },
    {
      "cell_type": "markdown",
      "metadata": {
        "id": "NZYQsedi5FL_"
      },
      "source": [
        "## Linear Regression\n",
        "\n",
        "Brief review: linear regression is a statistical approach to find and determine a relationship among an independent variable `x` and a dependent variable `y`. In the below equation, linear regression helps us find the `m` and `b` that best relates our variables. In other words, we are trying to find a \"line of best fit\" for our variables `x` and `y`.\n",
        "\n",
        "$y= mx + b$\n",
        "\n",
        "[![Line of Best Fit](https://upload.wikimedia.org/wikipedia/commons/thumb/3/3a/Linear_regression.svg/400px-Linear_regression.svg.png)](https://upload.wikimedia.org/wikipedia/commons/thumb/3/3a/Linear_regression.svg/400px-Linear_regression.svg.png)\n",
        "\n",
        "Another way to say this is: we create a line that 'summarizes' the story that the data tells us."
      ]
    },
    {
      "cell_type": "markdown",
      "metadata": {
        "id": "85otcStM5Wqk"
      },
      "source": [
        "We'll use sklearn to run our linear regression below. For now, we're just goint to be looking at the relationship between `SalePrice` and `OverallQual`.\n",
        "\n",
        "We'll split up our data set into groups called 'train' and 'test'. We teach our 'model' the patterns using the train data, but the whole point of machine learning is that our prediction should work on 'unseen' data or 'test' data.\n",
        "\n",
        "The function below does this for you."
      ]
    },
    {
      "cell_type": "code",
      "metadata": {
        "id": "WjfW79Dk5WNH"
      },
      "source": [
        "import sklearn\n",
        "#sklearn.linear_model.LinearRegression.fit\n",
        "from sklearn.model_selection import train_test_split\n",
        "# let's pull our handy linear fitter from our 'prediction' toolbox: sklearn!\n",
        "from sklearn import linear_model\n",
        "import numpy as np    # Great for lists (arrays) of numbers\n",
        "\n",
        "# Initializing our X and y variables.\n",
        "train_data, test_data = train_test_split(housing_data[['OverallQual', 'SalePrice']], test_size = 0.2, random_state = 1)"
      ],
      "execution_count": null,
      "outputs": []
    },
    {
      "cell_type": "markdown",
      "metadata": {
        "id": "87t6fsAi56mZ"
      },
      "source": [
        "Let's take a look and see what `train_data` and `test_data` look like!"
      ]
    },
    {
      "cell_type": "code",
      "metadata": {
        "id": "JZX_6FZx6Ayu"
      },
      "source": [
        "print(train_data)"
      ],
      "execution_count": null,
      "outputs": []
    },
    {
      "cell_type": "code",
      "metadata": {
        "id": "jL5y_eUE6CSM"
      },
      "source": [
        "print(test_data)"
      ],
      "execution_count": null,
      "outputs": []
    },
    {
      "cell_type": "code",
      "metadata": {
        "id": "_GqKIYQEDyeq"
      },
      "source": [
        "print('Number of rows in training dataframe:', train_data.shape[0])\n",
        "print('Number of rows in test dataframe:', test_data.shape[0])"
      ],
      "execution_count": null,
      "outputs": []
    },
    {
      "cell_type": "markdown",
      "metadata": {
        "id": "Q4-ie82v-PPE"
      },
      "source": [
        "Next, let's set up our model variable and train the model."
      ]
    },
    {
      "cell_type": "code",
      "metadata": {
        "id": "fAfxYqFB3LlE"
      },
      "source": [
        "# set up our model\n",
        "linear = linear_model.LinearRegression()\n",
        "# train the model\n",
        "\n",
        "X_train = train_data[['OverallQual']]\n",
        "y_train = train_data[['SalePrice']]\n",
        "\n",
        "linear.fit(X_train, y_train)"
      ],
      "execution_count": null,
      "outputs": []
    },
    {
      "cell_type": "code",
      "metadata": {
        "id": "RReOkaEFpvjl",
        "cellView": "form"
      },
      "source": [
        "#@title Visualize the fit with this cell!\n",
        "import matplotlib.pyplot as plt\n",
        "\n",
        "y_pred = linear.predict(housing_data[['OverallQual']])\n",
        "plt.plot(housing_data[['OverallQual']], y_pred, color='red')\n",
        "\n",
        "plt.scatter(housing_data[['OverallQual']], housing_data[['SalePrice']])\n",
        "plt.xlabel('OverallQual') # set the labels of the x and y axes\n",
        "plt.ylabel('SalePrice')\n",
        "plt.show()"
      ],
      "execution_count": null,
      "outputs": []
    },
    {
      "cell_type": "markdown",
      "metadata": {
        "id": "ouYw5bRKm0I2"
      },
      "source": [
        "## Interpreting our Model\n",
        "Remember! We were trying to find the best `b` and `m` to capture our data's story. We can grab this from the trained model."
      ]
    },
    {
      "cell_type": "code",
      "metadata": {
        "id": "eb33Iylem6cv"
      },
      "source": [
        "print('Our m:', linear.coef_)"
      ],
      "execution_count": null,
      "outputs": []
    },
    {
      "cell_type": "markdown",
      "metadata": {
        "id": "hoVTkaNMuxM4"
      },
      "source": [
        "`m` says: The higher quality a house is by one point, the sale price is `m` dollars higher."
      ]
    },
    {
      "cell_type": "code",
      "metadata": {
        "id": "VSZ7OYSeyQKB"
      },
      "source": [
        "print('Our intercept b: ', linear.intercept_)"
      ],
      "execution_count": null,
      "outputs": []
    },
    {
      "cell_type": "markdown",
      "metadata": {
        "id": "AhWhJAsaug89"
      },
      "source": [
        "### Exercise ✍️"
      ]
    },
    {
      "cell_type": "markdown",
      "metadata": {
        "id": "uh0q6cXnwBqg"
      },
      "source": [
        "You go to a realtor to buy a nice home that was rated a 9. The realtor is offering to sell it for $400,000. Would you take it? If not, how much would you take it for?"
      ]
    },
    {
      "cell_type": "code",
      "metadata": {
        "id": "aXzo-89QBtJY"
      },
      "source": [
        "#@title Would you take that price? { display-mode: \"form\" }\n",
        "buy_home = '' #@param {type:\"string\"}"
      ],
      "execution_count": null,
      "outputs": []
    },
    {
      "cell_type": "code",
      "metadata": {
        "id": "SHGl0Rkr9t0v"
      },
      "source": [
        "#@title If not, how much would you pay? { display-mode: \"form\" }\n",
        "revised_price = '' #@param {type:\"string\"}"
      ],
      "execution_count": null,
      "outputs": []
    },
    {
      "cell_type": "markdown",
      "metadata": {
        "id": "eBBAeXP0pJ0h"
      },
      "source": [
        "### (Optional) Exercise ✍️\n",
        "\n",
        "Let's say you were deciding between home that was rated with an overall quality of 6 and a different one rated with an overall quality of 8. How much cheaper should the lower quality home be by our model?"
      ]
    },
    {
      "cell_type": "markdown",
      "metadata": {
        "id": "mm7aNp8cbqHF"
      },
      "source": [
        "How should we interpret it? Using our `m` and `b` values, how do we find the price of the cars?"
      ]
    },
    {
      "cell_type": "code",
      "metadata": {
        "cellView": "form",
        "id": "u5zEMfzj8gpp"
      },
      "source": [
        "#@title Fill in the price difference!\n",
        "price_difference = 0 #@param {type:\"number\"}"
      ],
      "execution_count": null,
      "outputs": []
    },
    {
      "cell_type": "code",
      "metadata": {
        "cellView": "form",
        "id": "ponjtvlV8y6B"
      },
      "source": [
        "#@title How did you figure out the price difference?\n",
        "strategy = '' #@param {type:\"string\"}"
      ],
      "execution_count": null,
      "outputs": []
    },
    {
      "cell_type": "markdown",
      "metadata": {
        "id": "8P5sjLb_DFIr"
      },
      "source": [
        "## How well did our model do?\n",
        "We can measure the success of our model based on the performance of the training and testing data. If we want to evaluate the predictions on the training data, we can do it by using the `model.score(x, y)` function. Run the cell below to see how well our model does on our training data.\n",
        "\n"
      ]
    },
    {
      "cell_type": "code",
      "metadata": {
        "id": "Nko2XpykFTU9"
      },
      "source": [
        "training_score = linear.score(X_train, y_train)\n",
        "print('Our testing data on our single linear model had an R^2 of:',training_score)"
      ],
      "execution_count": null,
      "outputs": []
    },
    {
      "cell_type": "markdown",
      "metadata": {
        "id": "1tmGBrF3FS3b"
      },
      "source": [
        "Now, fill in the score below to see how it does on the testing data. Before you calculate the test score, you need to split `test_data` into `X_test` and `y_test`. If you need to look at how to do that, scroll up to the cell where we trained our model."
      ]
    },
    {
      "cell_type": "code",
      "metadata": {
        "id": "xDlT7BjtHQiT"
      },
      "source": [
        "# FILL IN YOUR CODE\n",
        "X_test = None\n",
        "y_test = None\n",
        "\n",
        "testing_score = None\n",
        "print('Our testing data on our single linear model had an R^2 of:',testing_score)"
      ],
      "execution_count": null,
      "outputs": []
    },
    {
      "cell_type": "code",
      "metadata": {
        "cellView": "form",
        "id": "w1hC6QDFEd32"
      },
      "source": [
        "#@title Instructor Solution\n",
        "X_test = test_data[['OverallQual']]\n",
        "y_test = test_data[['SalePrice']]\n",
        "\n",
        "testing_score = linear.score(X_test, y_test)\n",
        "print('Our testing data on our single linear model had an R^2 of: ' + str(testing_score))"
      ],
      "execution_count": null,
      "outputs": []
    },
    {
      "cell_type": "markdown",
      "metadata": {
        "id": "QjDumCwI96Oe"
      },
      "source": [
        "## Linear Regression on Categorical Inputs"
      ]
    },
    {
      "cell_type": "markdown",
      "metadata": {
        "id": "NWtHXBE74fIV"
      },
      "source": [
        "In order to try different inputs in linear regression, we will first need to learn how to convert categorical data into numerical data. Let's first learn how to do that with the `ExterQual` variable. We can easily transform `ExterQual` to a numeric variable by replacing every possible value with a number instead!\n",
        "\n",
        "* Po -> 0\n",
        "* Fa -> 1\n",
        "* TA -> 2\n",
        "* Gd -> 3\n",
        "* Ex -> 4\n",
        "\n",
        "By doing this, we're creating a new feature in our data set called `ExterQualNumber`."
      ]
    },
    {
      "cell_type": "code",
      "metadata": {
        "id": "vukhDq7PsV8X"
      },
      "source": [
        "housing_data['ExterQualNumber'] = housing_data['ExterQual'].replace({'Po':0, 'Fa':1, 'TA':2, 'Gd':3, 'Ex':4})"
      ],
      "execution_count": null,
      "outputs": []
    },
    {
      "cell_type": "markdown",
      "metadata": {
        "id": "FCiz4-xV5GOR"
      },
      "source": [
        "Now that we have `ExterQual` converted, we can now check what our dataset looks like!"
      ]
    },
    {
      "cell_type": "code",
      "metadata": {
        "id": "yS0heQCjrDdJ"
      },
      "source": [
        "housing_data.head()"
      ],
      "execution_count": null,
      "outputs": []
    },
    {
      "cell_type": "markdown",
      "metadata": {
        "id": "WAycD-GN4YxX"
      },
      "source": [
        "In the very last column, there's a brand new feature!\n",
        "\n",
        "Now we're ready to try different values for `X_train` instead of just the `OverallQual` column! If we want to try a categorical variable like `ExterQualNumber`, remember to convert it to numerical!"
      ]
    },
    {
      "cell_type": "code",
      "metadata": {
        "id": "mvg2nPoU4Zak"
      },
      "source": [
        "#Initializing our X, y variables\n",
        "\n",
        "X_column = 'ExterQualNumber' # Feel free to try different inputs!\n",
        "X = housing_data[[X_column]]\n",
        "y = housing_data[['SalePrice']]\n",
        "\n",
        "train_data, test_data = train_test_split(housing_data[[X_column, 'SalePrice']], test_size = 0.2, random_state = 1)\n",
        "X_train = train_data[[X_column]]\n",
        "y_train = train_data[['SalePrice']]\n",
        "\n",
        "# Setting up model\n",
        "cat_linear = linear_model.LinearRegression()\n",
        "\n",
        "# Training\n",
        "cat_linear.fit(X_train,y_train)\n",
        "\n",
        "# Score\n",
        "print(\"Score:\", cat_linear.score(test_data[[X_column]], test_data[['SalePrice']]))"
      ],
      "execution_count": null,
      "outputs": []
    },
    {
      "cell_type": "code",
      "metadata": {
        "id": "3SzJ11LM5WlX",
        "cellView": "form"
      },
      "source": [
        "#@title Visualize the fit with this cell!\n",
        "import matplotlib.pyplot as plt\n",
        "\n",
        "y_pred = cat_linear.predict(X_train)\n",
        "plt.plot(X_train, y_pred, color='red')\n",
        "\n",
        "plt.scatter(X, y)\n",
        "plt.xlabel(X_column) # Automated setup of axis labels\n",
        "plt.ylabel('SalePrice')\n",
        "plt.show()"
      ],
      "execution_count": null,
      "outputs": []
    },
    {
      "cell_type": "markdown",
      "metadata": {
        "id": "24QbsTU_sTF3"
      },
      "source": [
        "## Multiple Linear Regression: Using multiple inputs"
      ]
    },
    {
      "cell_type": "markdown",
      "metadata": {
        "id": "vYt0sZGgs6WP"
      },
      "source": [
        "Now that we've tried single linear regression with different inputs, we'll now try to make our model better by using multiple input variables, like `GarageCars` and `TotalBsmtSF`.\n"
      ]
    },
    {
      "cell_type": "code",
      "metadata": {
        "id": "Vv1sW8Cc1Ykc"
      },
      "source": [
        "# YOUR CODE HERE: add in more features!\n",
        "X_cols = ['ExterQualNumber', 'OverallQual']\n",
        "\n",
        "X = housing_data[X_cols]\n",
        "y = housing_data[['SalePrice']]\n",
        "\n",
        "train_data, test_data = train_test_split(housing_data[X_cols + ['SalePrice']], test_size = 0.2, random_state = 1)\n",
        "X_train = train_data[X_cols]\n",
        "y_train = train_data[['SalePrice']]\n",
        "\n",
        "# set up our model\n",
        "multiple = linear_model.LinearRegression(fit_intercept = True, normalize = True)\n",
        "\n",
        "# train the model\n",
        "multiple.fit(X_train,y_train)\n",
        "\n",
        "# Score\n",
        "print(\"Score:\", multiple.score(test_data[X_cols], test_data[['SalePrice']]))"
      ],
      "execution_count": null,
      "outputs": []
    },
    {
      "cell_type": "markdown",
      "metadata": {
        "id": "JyWIZkKy2wgh"
      },
      "source": [
        "In real life, you wouldn't buy a house based on a single variable, even if that variable was assessing the overall quality of the home. You would take into account a lot of different variables like our multiple linear model did!\n",
        "\n",
        "Now that you've seen a basic multiple linear regression, **add some more features**! Take a look at your heatmap from earlier and decide which features would be the best to add.\n",
        "\n",
        "Try adding another categorical feature too!"
      ]
    },
    {
      "cell_type": "markdown",
      "metadata": {
        "id": "jk8dOpPgbjV7"
      },
      "source": [
        "### Question 💡\n",
        "\n",
        "Which set of features got you the best performance? What score did that model get?"
      ]
    },
    {
      "cell_type": "code",
      "metadata": {
        "cellView": "form",
        "id": "HVv_n0epbjWA"
      },
      "source": [
        "#@title Which set of features got the best performance?\n",
        "best_features = '' #@param {type:\"string\"}"
      ],
      "execution_count": null,
      "outputs": []
    },
    {
      "cell_type": "code",
      "metadata": {
        "cellView": "form",
        "id": "dyGEwxuJbjWB"
      },
      "source": [
        "#@title What score did the model get?\n",
        "multiple_model_score = 0 #@param {type:\"number\"}"
      ],
      "execution_count": null,
      "outputs": []
    },
    {
      "cell_type": "markdown",
      "metadata": {
        "id": "pRg8rwk0O5x4"
      },
      "source": [
        "## 🔥 (Optional) Non-Linear Models\n",
        "In class, we *also* talked about nonlinear models. Let's try using a polynomial regression model!\n",
        "\n",
        "We've implemented the code below for a polynomial fit and set it to be degree 1. Run the cell and the visualization, see what it looks like, then change the degree and run it again! Try to find the polynomial degree with the highest R^2 score."
      ]
    },
    {
      "cell_type": "code",
      "metadata": {
        "id": "O4HJWnWHPe0T"
      },
      "source": [
        "from sklearn.preprocessing import PolynomialFeatures\n",
        "from sklearn.linear_model import LinearRegression\n",
        "from sklearn.pipeline import Pipeline\n",
        "\n",
        "# YOUR CODE HERE: change the degree to test out different fits\n",
        "X_cols = ['OverallQual']\n",
        "train_data, test_data = train_test_split(housing_data[X_cols + ['SalePrice']], test_size = 0.2, random_state = 1)\n",
        "X_train = train_data[X_cols]\n",
        "y_train = train_data[['SalePrice']]\n",
        "\n",
        "poly_lin_model = Pipeline([('poly', PolynomialFeatures(degree=1)),\n",
        "                  ('linear', LinearRegression())])\n",
        "\n",
        "poly_lin_model.fit(X_train, y_train)\n",
        "\n",
        "# initialize our X_test\n",
        "X_test = test_data[X_cols]\n",
        "y_test = test_data[['SalePrice']]\n",
        "testing_score = poly_lin_model.score(X_test, y_test)\n",
        "print('Our testing data on our polynomial linear model had an R^2 of:', testing_score)"
      ],
      "execution_count": null,
      "outputs": []
    },
    {
      "cell_type": "code",
      "metadata": {
        "id": "_4X3ACMgQRNU",
        "cellView": "form"
      },
      "source": [
        "#@title Visualize the fit with this cell!\n",
        "import matplotlib.pyplot as plt\n",
        "\n",
        "df = pd.DataFrame(np.arange(0, 10, 0.1))\n",
        "y_pred = poly_lin_model.predict(df)\n",
        "\n",
        "plt.plot(np.arange(0, 10, 0.1), y_pred, color='red')\n",
        "\n",
        "plt.scatter(housing_data[['OverallQual']], housing_data[['SalePrice']])\n",
        "plt.xlabel('OverallQual') # set the labels of the x and y axes\n",
        "plt.ylabel('SalePrice')\n",
        "plt.show()"
      ],
      "execution_count": null,
      "outputs": []
    },
    {
      "cell_type": "markdown",
      "metadata": {
        "id": "5pWqItWBSwnH"
      },
      "source": [
        "### Question 💡\n",
        "\n",
        "Which polynomial degree got the best performance? What score did it get?"
      ]
    },
    {
      "cell_type": "code",
      "metadata": {
        "cellView": "form",
        "id": "uYQUuOSxS6Sl"
      },
      "source": [
        "#@title Which degree worked best?\n",
        "best_degree = 0 #@param {type:\"number\"}"
      ],
      "execution_count": null,
      "outputs": []
    },
    {
      "cell_type": "code",
      "metadata": {
        "cellView": "form",
        "id": "UzcR8rVMTA6t"
      },
      "source": [
        "#@title What score did it get?\n",
        "pmodel_score = 0 #@param {type:\"number\"}"
      ],
      "execution_count": null,
      "outputs": []
    },
    {
      "cell_type": "markdown",
      "metadata": {
        "id": "bKL6wRzd9-TY"
      },
      "source": [
        "## 🔥 (Optional) More Robust Models\n",
        "Let's try to use some more robust models to see if we can get higher accuracy!"
      ]
    },
    {
      "cell_type": "markdown",
      "metadata": {
        "id": "Sx29jcqIHjiQ"
      },
      "source": [
        "### Huber\n",
        "Fill in the code below to try using a model with Huber loss."
      ]
    },
    {
      "cell_type": "code",
      "metadata": {
        "id": "UoMZRI0CHr5M"
      },
      "source": [
        "from sklearn.linear_model import HuberRegressor\n",
        "huber_model = HuberRegressor()\n",
        "\n",
        "# YOUR CODE HERE: use .fit to fit your model using X_train and y_train!\n",
        "\n",
        "# YOUR CODE HERE: write code to print out the huber model score using X_test and y_test!\n",
        "\n"
      ],
      "execution_count": null,
      "outputs": []
    },
    {
      "cell_type": "code",
      "metadata": {
        "cellView": "form",
        "id": "GxirMnFaIckz"
      },
      "source": [
        "#@title Instructor Solution\n",
        "from sklearn.linear_model import HuberRegressor\n",
        "huber_model = HuberRegressor()\n",
        "\n",
        "# YOUR CODE HERE: use .fit to fit your model using X_train and y_train!\n",
        "huber_model.fit(X_train, y_train)\n",
        "# YOUR CODE HERE: write code to print out the huber model score using X_test and y_test!\n",
        "\n",
        "testing_score = huber_model.score(X_test, y_test)\n",
        "print('Our testing data on our huber model had an R^2 of:',testing_score)"
      ],
      "execution_count": null,
      "outputs": []
    },
    {
      "cell_type": "code",
      "metadata": {
        "cellView": "form",
        "id": "YnXUYbV8LFJa"
      },
      "source": [
        "#@title Visualize the fit with this cell!\n",
        "import matplotlib.pyplot as plt\n",
        "\n",
        "y_pred = huber_model.predict(housing_data[['OverallQual']])\n",
        "plt.plot(housing_data[['OverallQual']], y_pred, color='red')\n",
        "\n",
        "plt.scatter(housing_data[['OverallQual']], housing_data[['SalePrice']])\n",
        "plt.xlabel('OverallQual') # set the labels of the x and y axes\n",
        "plt.ylabel('SalePrice')\n",
        "plt.show()"
      ],
      "execution_count": null,
      "outputs": []
    },
    {
      "cell_type": "markdown",
      "metadata": {
        "id": "d7xuwM-LI7QO"
      },
      "source": [
        "When you use the `HuberRegressor` without specifying the input value (remember, you can choose a value that decides how lenient the Huber loss calculation will be), it defaults to a value of 1.35. Let's try a couple different values and see how our score changes.\n",
        "\n",
        "You can create a `HuberRegressor` model by passing in the value as an argument. For example, if you wanted to use a value of 1.5, you would do it like:\n",
        "\n",
        "\n",
        "```\n",
        "huber_model = HuberRegressor(epsilon=1.5)\n",
        "```\n",
        "In the cell below, write some code that loops through the delta values and for each one:\n",
        "* creates the model\n",
        "* fits the model to the training data\n",
        "* prints out the model score on the testing data along with the delta value\n"
      ]
    },
    {
      "cell_type": "code",
      "metadata": {
        "id": "nttLLb3CJ7z4"
      },
      "source": [
        "delta_values = [1, 1.1, 1.2, 1.3, 1.4]\n",
        "# YOUR CODE HERE\n"
      ],
      "execution_count": null,
      "outputs": []
    },
    {
      "cell_type": "code",
      "metadata": {
        "cellView": "form",
        "id": "ALGumhLgJVIb"
      },
      "source": [
        "#@title Instructor Solution\n",
        "delta_values = [1, 1.1, 1.2, 1.3, 1.4]\n",
        "# YOUR CODE HERE:\n",
        "for d in delta_values:\n",
        "  huber_model = HuberRegressor(epsilon=d)\n",
        "  huber_model.fit(X_train, y_train)\n",
        "  testing_score = huber_model.score(X_test, y_test)\n",
        "  print('Delta:', d, ', Score:', testing_score)\n"
      ],
      "execution_count": null,
      "outputs": []
    },
    {
      "cell_type": "markdown",
      "metadata": {
        "id": "MEs7oHGnKtSB"
      },
      "source": [
        "### RANSAC\n",
        "Fill in the code below to try using a RANSAC model."
      ]
    },
    {
      "cell_type": "code",
      "metadata": {
        "id": "mPpHL0VjKtSB"
      },
      "source": [
        "from sklearn.linear_model import RANSACRegressor\n",
        "ransac_model = RANSACRegressor()\n",
        "\n",
        "# YOUR CODE HERE: use .fit to fit your model using X_train and y_train!\n",
        "\n",
        "# YOUR CODE HERE: write code to print out the huber model score using X_test and y_test!\n",
        "\n"
      ],
      "execution_count": null,
      "outputs": []
    },
    {
      "cell_type": "code",
      "metadata": {
        "cellView": "form",
        "id": "v6us2EjkKtSB"
      },
      "source": [
        "#@title Instructor Solution\n",
        "from sklearn.linear_model import RANSACRegressor\n",
        "ransac_model = RANSACRegressor()\n",
        "\n",
        "# YOUR CODE HERE: use .fit to fit your model using X_train and y_train!\n",
        "ransac_model.fit(X_train, y_train)\n",
        "# YOUR CODE HERE: write code to print out the huber model score using X_test and y_test!\n",
        "\n",
        "testing_score = ransac_model.score(X_test, y_test)\n",
        "print('Our testing data on our RANSAC model had an R^2 of:',testing_score)"
      ],
      "execution_count": null,
      "outputs": []
    },
    {
      "cell_type": "code",
      "metadata": {
        "cellView": "form",
        "id": "DW8y6vcqLmrp"
      },
      "source": [
        "#@title Visualize the fit with this cell!\n",
        "import matplotlib.pyplot as plt\n",
        "\n",
        "y_pred = ransac_model.predict(housing_data[['OverallQual']])\n",
        "plt.plot(housing_data[['OverallQual']], y_pred, color='red')\n",
        "\n",
        "plt.scatter(housing_data[['OverallQual']], housing_data[['SalePrice']])\n",
        "plt.xlabel('OverallQual') # set the labels of the x and y axes\n",
        "plt.ylabel('SalePrice')\n",
        "plt.show()"
      ],
      "execution_count": null,
      "outputs": []
    },
    {
      "cell_type": "markdown",
      "metadata": {
        "id": "KGFbgb51L-Jw"
      },
      "source": [
        "Something interesting we can do with RANSAC is see which points it marked as inliers and which were outliers. Let's change the graph to show that information."
      ]
    },
    {
      "cell_type": "code",
      "metadata": {
        "cellView": "form",
        "id": "cuNKHPE_MHGI"
      },
      "source": [
        "#@title Visualize the fit with outliers!\n",
        "import matplotlib.pyplot as plt\n",
        "\n",
        "y_pred = ransac_model.predict(housing_data[['OverallQual']])\n",
        "plt.plot(housing_data[['OverallQual']], y_pred, color='red')\n",
        "\n",
        "inlier_mask = ransac_model.inlier_mask_\n",
        "outlier_mask = np.logical_not(inlier_mask)\n",
        "\n",
        "plt.scatter(X_train[inlier_mask], y_train[inlier_mask], color='yellowgreen', marker='.',\n",
        "            label='Inliers')\n",
        "plt.scatter(X_train[outlier_mask], y_train[outlier_mask], color='gold', marker='.',\n",
        "            label='Outliers')\n",
        "plt.xlabel('OverallQual') # set the labels of the x and y axes\n",
        "plt.ylabel('SalePrice')\n",
        "plt.show()"
      ],
      "execution_count": null,
      "outputs": []
    },
    {
      "cell_type": "markdown",
      "metadata": {
        "id": "bDWRrMluNK5R"
      },
      "source": [
        "Wow! It seems like RANSAC was marking a lot of our data as outliers. Let's try running this again, but passing in an optional argument to set a threshold for what the residual has to be to get considered an outlier."
      ]
    },
    {
      "cell_type": "code",
      "metadata": {
        "id": "6wwvr3TDNfqE"
      },
      "source": [
        "from sklearn.linear_model import RANSACRegressor\n",
        "\n",
        "# YOUR CODE HERE: set a threshold value\n",
        "threshold = None\n",
        "\n",
        "ransac_model = RANSACRegressor(residual_threshold=threshold)\n",
        "\n",
        "# YOUR CODE HERE: use .fit to fit your model using X_train and y_train!\n",
        "\n",
        "# YOUR CODE HERE: write code to print out the huber model score using X_test and y_test!\n",
        "\n"
      ],
      "execution_count": null,
      "outputs": []
    },
    {
      "cell_type": "code",
      "metadata": {
        "cellView": "form",
        "id": "SHn5HpKbNhx1"
      },
      "source": [
        "#@title Instructor Solution\n",
        "from sklearn.linear_model import RANSACRegressor\n",
        "\n",
        "threshold = 60000\n",
        "ransac_model = RANSACRegressor(residual_threshold=threshold)\n",
        "\n",
        "# YOUR CODE HERE: use .fit to fit your model using X_train and y_train!\n",
        "ransac_model.fit(X_train, y_train)\n",
        "# YOUR CODE HERE: write code to print out the huber model score using X_test and y_test!\n",
        "\n",
        "testing_score = ransac_model.score(X_test, y_test)\n",
        "print('Our testing data on our single linear model had an R^2 of:',testing_score)"
      ],
      "execution_count": null,
      "outputs": []
    },
    {
      "cell_type": "code",
      "metadata": {
        "cellView": "form",
        "id": "Qn2CSuBONzGo"
      },
      "source": [
        "#@title Re-visualize the fit with the outlier threshold!\n",
        "import matplotlib.pyplot as plt\n",
        "\n",
        "y_pred = ransac_model.predict(housing_data[['OverallQual']])\n",
        "plt.plot(housing_data[['OverallQual']], y_pred, color='red')\n",
        "\n",
        "inlier_mask = ransac_model.inlier_mask_\n",
        "outlier_mask = np.logical_not(inlier_mask)\n",
        "\n",
        "plt.scatter(X_train[inlier_mask], y_train[inlier_mask], color='yellowgreen', marker='.',\n",
        "            label='Inliers')\n",
        "plt.scatter(X_train[outlier_mask], y_train[outlier_mask], color='gold', marker='.',\n",
        "            label='Outliers')\n",
        "plt.xlabel('OverallQual') # set the labels of the x and y axes\n",
        "plt.ylabel('SalePrice')\n",
        "plt.show()"
      ],
      "execution_count": null,
      "outputs": []
    },
    {
      "cell_type": "markdown",
      "metadata": {
        "id": "P0p-xGLrOSeH"
      },
      "source": [
        "### Theil-Sen\n",
        "Fill in the code below to try using a Theil-Sen model."
      ]
    },
    {
      "cell_type": "code",
      "metadata": {
        "id": "wN53cUvxOSeM"
      },
      "source": [
        "from sklearn.linear_model import TheilSenRegressor\n",
        "theilsen_model = TheilSenRegressor()\n",
        "\n",
        "# YOUR CODE HERE: use .fit to fit your model using X_train and y_train!\n",
        "\n",
        "# YOUR CODE HERE: write code to print out the huber model score using X_test and y_test!\n",
        "\n"
      ],
      "execution_count": null,
      "outputs": []
    },
    {
      "cell_type": "code",
      "metadata": {
        "id": "BSrj4-ZMOSeM",
        "cellView": "form"
      },
      "source": [
        "#@title Instructor Solution\n",
        "from sklearn.linear_model import TheilSenRegressor\n",
        "theilsen_model = TheilSenRegressor()\n",
        "\n",
        "# YOUR CODE HERE: use .fit to fit your model using X_train and y_train!\n",
        "theilsen_model.fit(X_train, y_train)\n",
        "# YOUR CODE HERE: write code to print out the huber model score using X_test and y_test!\n",
        "\n",
        "testing_score = theilsen_model.score(X_test, y_test)\n",
        "print('Our testing data on our Theil-Sen model had an R^2 of:',testing_score)"
      ],
      "execution_count": null,
      "outputs": []
    },
    {
      "cell_type": "code",
      "metadata": {
        "cellView": "form",
        "id": "YlRqEg_nOSeM"
      },
      "source": [
        "#@title Visualize the fit with this cell!\n",
        "import matplotlib.pyplot as plt\n",
        "\n",
        "y_pred = theilsen_model.predict(housing_data[['OverallQual']])\n",
        "plt.plot(housing_data[['OverallQual']], y_pred, color='red')\n",
        "\n",
        "plt.scatter(housing_data[['OverallQual']], housing_data[['SalePrice']])\n",
        "plt.xlabel('OverallQual') # set the labels of the x and y axes\n",
        "plt.ylabel('SalePrice')\n",
        "plt.show()"
      ],
      "execution_count": null,
      "outputs": []
    },
    {
      "cell_type": "markdown",
      "metadata": {
        "id": "vmlCHW7EPDmO"
      },
      "source": [
        "### Question 💡\n",
        "\n",
        "Which of these models worked the best? Were you able to tell if there was a big difference?"
      ]
    },
    {
      "cell_type": "code",
      "metadata": {
        "cellView": "form",
        "id": "095X0qtUPDmP"
      },
      "source": [
        "#@title Which model worked best?\n",
        "best_model = '' #@param {type:\"string\"}"
      ],
      "execution_count": null,
      "outputs": []
    },
    {
      "cell_type": "code",
      "metadata": {
        "cellView": "form",
        "id": "2ZXrBn9APDmP"
      },
      "source": [
        "#@title Was there a large difference between models?\n",
        "strategy = '' #@param {type:\"string\"}"
      ],
      "execution_count": null,
      "outputs": []
    },
    {
      "cell_type": "markdown",
      "metadata": {
        "id": "Jg13QkpUcWia"
      },
      "source": [
        "# That's it for this notebook!\n",
        "If you didn't get all the way through it in class, no worries! Solutions will be posted on Teachable for you to check out, and you're welcome to keep working on the notebook."
      ]
    }
  ]
}