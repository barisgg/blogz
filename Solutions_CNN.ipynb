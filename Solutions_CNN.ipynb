{
  "cells": [
    {
      "cell_type": "markdown",
      "metadata": {
        "id": "view-in-github",
        "colab_type": "text"
      },
      "source": [
        "<a href=\"https://colab.research.google.com/github/barisgg/blogz/blob/master/Solutions_CNN.ipynb\" target=\"_parent\"><img src=\"https://colab.research.google.com/assets/colab-badge.svg\" alt=\"Open In Colab\"/></a>"
      ]
    },
    {
      "cell_type": "markdown",
      "metadata": {
        "id": "TiM6gYg0nhkY"
      },
      "source": [
        "<font color=\"#de3023\"><h1><b>REMINDER MAKE A COPY OF THIS NOTEBOOK, DO NOT EDIT</b></h1></font>"
      ]
    },
    {
      "cell_type": "markdown",
      "metadata": {
        "id": "Sq-JhCcLpBwS"
      },
      "source": [
        "#Conscientious Cars 2: Convolutional Neural Nets\n",
        "\n",
        "Welcome back to CC: ConscientiousCars! Today, we'll be improving on our system for distinguishing dogs from roads."
      ]
    },
    {
      "cell_type": "code",
      "execution_count": null,
      "metadata": {
        "id": "uhNVum16scIW"
      },
      "outputs": [],
      "source": [
        "#@title Run this to load some packages and data! { display-mode: \"form\" }\n",
        "import pickle\n",
        "import numpy as np\n",
        "import pandas as pd\n",
        "import seaborn as sns\n",
        "import matplotlib.pyplot as plt\n",
        "from sklearn.neural_network import MLPClassifier\n",
        "from sklearn.neighbors import KNeighborsClassifier\n",
        "from sklearn import model_selection\n",
        "from sklearn.metrics import accuracy_score\n",
        "from collections import Counter\n",
        "import keras.api._v2.keras as keras\n",
        "from keras.models import Sequential\n",
        "from keras.layers import Dense, Conv2D, InputLayer\n",
        "from keras.layers import Activation, MaxPooling2D, Dropout, Flatten, Reshape\n",
        "from keras.utils.np_utils import to_categorical\n",
        "!pip install -q git+https://github.com/rdk2132/scikeras # workaround for scikeras deprecation\n",
        "from scikeras.wrappers import KerasClassifier\n",
        "from sklearn.model_selection import StratifiedKFold\n",
        "from sklearn.model_selection import cross_val_score\n",
        "\n",
        "# Quiet deprecation warnings\n",
        "import warnings\n",
        "warnings.filterwarnings(\"ignore\")\n",
        "\n",
        "def categorical_to_numpy(labels_in):\n",
        "  labels = []\n",
        "  for label in labels_in:\n",
        "    if label == 'dog':\n",
        "      labels.append(np.array([1, 0]))\n",
        "    else:\n",
        "      labels.append(np.array([0, 1]))\n",
        "  return np.array(labels)\n",
        "\n",
        "def load_data():\n",
        "  # import the data from the Cloud\n",
        "  !wget -q --show-progress https://storage.googleapis.com/inspirit-ai-data-bucket-1/Data/AI%20Scholars/Sessions%201%20-%205/Session%204%20_%205%20-%20Neural%20Networks%20_%20CNN/dogs_v_roads\n",
        "\n",
        "  # initialize our input and output variables\n",
        "  data_dict = pickle.load(open( \"dogs_v_roads\", \"rb\" ));\n",
        "  data   = data_dict['data']\n",
        "  labels = data_dict['labels']\n",
        "\n",
        "  return data, labels\n",
        "\n",
        "\n",
        "def plot_one_image(data, labels, img_idx):\n",
        "  from google.colab.patches import cv2_imshow\n",
        "  import cv2\n",
        "  import matplotlib.pyplot as plt\n",
        "  my_img   = data[img_idx, :].squeeze().reshape([32,32,3]).copy()\n",
        "  my_label = labels[img_idx]\n",
        "  print('label: %s'%my_label)\n",
        "  plt.imshow(my_img)\n",
        "  plt.show()\n",
        "\n",
        "def CNNClassifier(num_epochs=2, layers=1, dropout=0.15):\n",
        "  def create_model():\n",
        "    model = Sequential()\n",
        "    model.add(Reshape((32, 32, 3)))\n",
        "\n",
        "    for i in range(layers):\n",
        "      model.add(Conv2D(32, (3, 3), padding='same'))\n",
        "      model.add(Activation('relu'))\n",
        "\n",
        "    model.add(Conv2D(32, (3, 3)))\n",
        "    model.add(Activation('relu'))\n",
        "    model.add(MaxPooling2D(pool_size=(2, 2)))\n",
        "    model.add(Dropout(dropout))\n",
        "\n",
        "    model.add(Conv2D(64, (3, 3), padding='same'))\n",
        "    model.add(Activation('relu'))\n",
        "    model.add(Conv2D(64, (3, 3)))\n",
        "    model.add(Activation('relu'))\n",
        "    model.add(MaxPooling2D(pool_size=(2, 2)))\n",
        "    model.add(Dropout(dropout))\n",
        "\n",
        "    model.add(Flatten())\n",
        "    model.add(Dense(512))\n",
        "    model.add(Activation('relu'))\n",
        "    model.add(Dropout(dropout))\n",
        "    model.add(Dense(2))\n",
        "    model.add(Activation('softmax'))\n",
        "\n",
        "    return model\n",
        "  # initiate RMSprop optimizer\n",
        "  opt = keras.optimizers.legacy.RMSprop(learning_rate=0.0001, decay=1e-6)\n",
        "  return KerasClassifier(model=create_model, optimizer=opt, loss='categorical_crossentropy', epochs=num_epochs, batch_size=10, verbose=2, validation_batch_size=10, validation_split=.2, metrics=['accuracy'])\n",
        "\n",
        "\n",
        "def plot_acc(history, ax = None, xlabel = 'Epoch #'):\n",
        "\n",
        "    if hasattr(history, 'history_'):\n",
        "      history = history.history_\n",
        "    else:\n",
        "      history = history.history\n",
        "    history.update({'epoch':list(range(len(history['val_accuracy'])))})\n",
        "    history = pd.DataFrame.from_dict(history)\n",
        "\n",
        "    best_epoch = history.sort_values(by = 'val_accuracy', ascending = False).iloc[0]['epoch']\n",
        "\n",
        "    if not ax:\n",
        "      f, ax = plt.subplots(1,1)\n",
        "    sns.lineplot(x = 'epoch', y = 'val_accuracy', data = history, label = 'Validation', ax = ax)\n",
        "    sns.lineplot(x = 'epoch', y = 'accuracy', data = history, label = 'Training', ax = ax)\n",
        "    ax.axhline(0.5, linestyle = '--',color='red', label = 'Chance')\n",
        "    ax.axvline(x = best_epoch, linestyle = '--', color = 'green', label = 'Best Epoch')\n",
        "    ax.legend(loc = 7)\n",
        "    ax.set_ylim([0.4, 1])\n",
        "\n",
        "    ax.set_xlabel(xlabel)\n",
        "    ax.set_ylabel('Accuracy (Fraction)')\n",
        "\n",
        "    plt.show()\n",
        "\n",
        "def model_to_string(model):\n",
        "    import re\n",
        "    stringlist = []\n",
        "    model.summary(print_fn=lambda x: stringlist.append(x))\n",
        "    sms = \"\\n\".join(stringlist)\n",
        "    sms = re.sub('_\\d\\d\\d','', sms)\n",
        "    sms = re.sub('_\\d\\d','', sms)\n",
        "    sms = re.sub('_\\d','', sms)\n",
        "    return sms"
      ]
    },
    {
      "cell_type": "markdown",
      "metadata": {
        "id": "wkseZ14ms7vs"
      },
      "source": [
        "In this notebook, we will:\n",
        "\n",
        "- Use a pre-built CNN function to classify roads vs. dogs.\n",
        "- Build neural networks from scratch in Keras.\n",
        "- Experiment with building CNN models from scratch in Keras.\n",
        "- (Advanced, Optional) Build CNN models for distinguishing cats from dogs, and even experiment with implementing a famous architecture!\n"
      ]
    },
    {
      "cell_type": "markdown",
      "metadata": {
        "id": "qMWQRlTqt6Yn"
      },
      "source": [
        "<font color=darkorange>**Change Hardware Accelerator to GPU to train faster (Runtime -> Change Runtime Type -> Hardware Accelerator -> GPU)**"
      ]
    },
    {
      "cell_type": "markdown",
      "metadata": {
        "id": "1QxGsnvhnn8R"
      },
      "source": [
        "#Loading in Data"
      ]
    },
    {
      "cell_type": "markdown",
      "metadata": {
        "id": "btr24O6Hqgo6"
      },
      "source": [
        "Once again, let's load in our dog/road dataset and create our training and test set. **What's the shape of each dataset? Why?**"
      ]
    },
    {
      "cell_type": "code",
      "execution_count": null,
      "metadata": {
        "id": "MmZbrZoKnthN"
      },
      "outputs": [],
      "source": [
        "# Load our data\n",
        "data_raw, labels_raw = load_data()\n",
        "data = data_raw.astype(float)\n",
        "labels = categorical_to_numpy(labels_raw)\n",
        "inputs_train, inputs_test, labels_train, labels_test = model_selection.train_test_split(data, labels, test_size=0.2, random_state=1)\n",
        "\n",
        "#Find the shape of our dataset!\n",
        "### YOUR CODE HERE\n",
        "\n",
        "### END CODE"
      ]
    },
    {
      "cell_type": "code",
      "execution_count": null,
      "metadata": {
        "id": "IohukDrHNKV2",
        "cellView": "form"
      },
      "outputs": [],
      "source": [
        "#@title Instructor Solution\n",
        "# load our data\n",
        "data_raw, labels_raw = load_data()\n",
        "data = data_raw.astype(float)\n",
        "labels = categorical_to_numpy(labels_raw)\n",
        "inputs_train, inputs_test, labels_train, labels_test = model_selection.train_test_split(data, labels, test_size=0.2, random_state=1)\n",
        "\n",
        "#Find the shape of our dataset!\n",
        "\n",
        "## YOUR CODE HERE\n",
        "print(data.shape)\n",
        "print(data)"
      ]
    },
    {
      "cell_type": "markdown",
      "metadata": {
        "id": "VcZra2S0NNSZ"
      },
      "source": [
        "Use the cell below as a reminder of what the data looks like."
      ]
    },
    {
      "cell_type": "code",
      "execution_count": null,
      "metadata": {
        "id": "B83F3CmPNSux"
      },
      "outputs": [],
      "source": [
        "plot_one_image(data_raw, labels_raw, 300) # change this number"
      ]
    },
    {
      "cell_type": "markdown",
      "metadata": {
        "id": "37O_VE_D1Bdy"
      },
      "source": [
        "# Models for Vision: Convolutional Neural Networks"
      ]
    },
    {
      "cell_type": "markdown",
      "metadata": {
        "id": "GqrfI4JiVeFr"
      },
      "source": [
        "###Exercise: Exploring Hyperparameters ✍️\n",
        "\n",
        "As you know, there is a famous type of neural network known as convolutional neural networks (CNNs). These types of neural networks work particularly well on problems to do with computer vision. Let's try one out!\n",
        "\n",
        "To load up a simple CNN, just run:\n",
        "\n",
        "`cnn = CNNClassifier(num_epochs, layers, dropout)`\n",
        "\n",
        "Work with your instructors to review what each parameter means and how it affects the model! The value for **dropout** is a float between 0 and 1 that represents the probability the weight for a neuron in the layer is set to 0 during training time. Each neuron in the layer is evaluated as such, which can help prevent overfitting.\n",
        "\n",
        "**Try different values of num_epochs, layers, and dropout so that you get the best possible accuracy on the test set using `model.score()`**!"
      ]
    },
    {
      "cell_type": "code",
      "execution_count": null,
      "metadata": {
        "id": "bmC3-T4KRJgW"
      },
      "outputs": [],
      "source": [
        "cnn = CNNClassifier(5, 2, 0.5)\n",
        "cnn.fit(inputs_train, labels_train)\n",
        "print(cnn.score(inputs_test, labels_test))"
      ]
    },
    {
      "cell_type": "code",
      "execution_count": null,
      "metadata": {
        "id": "oVozcO7TYWdn"
      },
      "outputs": [],
      "source": [
        "#@title Instructor Solution { display-mode: \"form\" }\n",
        "\n",
        "# Create and train our multi layer perceptron model\n",
        "cnn = CNNClassifier(num_epochs=14, layers=6, dropout=0.5)\n",
        "cnn.fit(inputs_train, labels_train)\n",
        "\n",
        "# Print the score on the testing data\n",
        "print(\"CNN Testing Set Score:\")\n",
        "print(cnn.score(inputs_test, labels_test))"
      ]
    },
    {
      "cell_type": "markdown",
      "metadata": {
        "id": "KGWpgsVXP1ut"
      },
      "source": [
        "**How well did your neural network perform?**\n",
        "\n",
        "CNNs typically perform better than fully-connected neural networks on vision problems, but, as before, they aren't always consistent. They are also sensitive to a number of parameters."
      ]
    },
    {
      "cell_type": "markdown",
      "metadata": {
        "id": "c-XRh5Y5P_CL"
      },
      "source": [
        "## Training and Validation Curves\n",
        "\n",
        "An important aspect of training neural networks is to prevent overfitting. **How would we recognize overfitting?**\n",
        "\n",
        "In the first line of code below, we first **fit** the model on the training data and pass in some validation (or test) data to evaluate it. We call it the **history** because we want to retain information about the accuracy at each epoch.\n",
        "\n",
        "In the second line we plot the history so that we can compare the training and validation accuracies.  \n",
        "\n",
        "```\n",
        "history = model.fit(inputs_train, labels_train, validation_data=(inputs_test, labels_test))\n",
        "plot_acc(history)\n",
        "```"
      ]
    },
    {
      "cell_type": "markdown",
      "metadata": {
        "id": "8eaFvE2PQEFe"
      },
      "source": [
        "###Exercise: Plotting a Training vs. Validation Curve For Our CNN ✍️\n",
        "\n",
        "**After how many epochs does the model begin to overfit? How does this vary as you vary the number of hidden layers and dropout?** Overfitting occurs when the validation accuracy starts to drop below the training accuracy."
      ]
    },
    {
      "cell_type": "code",
      "execution_count": null,
      "metadata": {
        "id": "OsVAasDbjARJ"
      },
      "outputs": [],
      "source": [
        "### YOUR CODE HERE\n",
        "\n",
        "### END CODE"
      ]
    },
    {
      "cell_type": "code",
      "execution_count": null,
      "metadata": {
        "id": "XMsb61vccItm"
      },
      "outputs": [],
      "source": [
        "#@title Instructor Solution { display-mode: \"form\" }\n",
        "cnn = CNNClassifier(num_epochs=14, layers=6, dropout=0.5)\n",
        "\n",
        "history = cnn.fit(inputs_train, labels_train,\n",
        "                  validation_data=(inputs_test, labels_test))\n",
        "plot_acc(history)"
      ]
    },
    {
      "cell_type": "code",
      "execution_count": null,
      "metadata": {
        "id": "zEYUz17TJCGX"
      },
      "outputs": [],
      "source": [
        "# Print the score on the testing data\n",
        "print(\"CNN Testing Set Score:\")\n",
        "print(cnn.score(inputs_test, labels_test))"
      ]
    },
    {
      "cell_type": "markdown",
      "metadata": {
        "id": "76z4NAY6afd7"
      },
      "source": [
        "# Building Neural Networks from Scratch in Keras\n",
        "\n",
        "So far, we've used helper functions which pre-build Keras neural network models. Now, we will build them on our own!\n",
        "\n",
        "Let's start with a \"toy example\": a tiny neural network with just three numerical inputs.\n"
      ]
    },
    {
      "cell_type": "markdown",
      "metadata": {
        "id": "jdngkAX_aCVu"
      },
      "source": [
        "###Exercise: Building a Simple Neural Network Using Keras! ✍️\n",
        "\n"
      ]
    },
    {
      "cell_type": "markdown",
      "metadata": {
        "id": "Bj-Pt3wGCXRu"
      },
      "source": [
        "\n",
        "We're going to build this model:\n",
        "\n",
        "![](http://cs231n.github.io/assets/nn1/neural_net.jpeg)"
      ]
    },
    {
      "cell_type": "markdown",
      "metadata": {
        "id": "H-6WGeedvTCS"
      },
      "source": [
        "This network can be described as:\n",
        "* Input Layer: 3 neurons\n",
        "* Layer 1 (Hidden): 4 neurons that are activated by `'relu'`\n",
        "* Layer 2 (Output): 2 neurons that are activated by `'softmax'`\n",
        "\n",
        "\n",
        "We also want to compile the model with\n",
        "`loss = 'categorical_crossentropy'`\n",
        "\n",
        "What does this represent? Here's one way to interpret it:\n",
        "* This model classifies animals as \"cat\" or \"dog\"\n",
        "* Our three inputs are height, weight, and age\n",
        "* Our ouputs represent \"probability of cat\" and \"probability of dog\"\n",
        "* Because this is a toy example, we aren't actually training the model here - just using randomly initialized weights! We will train later models in this notebook.\n",
        "\n",
        "Try filling in the blanks below and walking through each line! **If you want a hint or more details, check out the optional reference below.**"
      ]
    },
    {
      "cell_type": "code",
      "execution_count": null,
      "metadata": {
        "id": "dp-g9qotbRPU"
      },
      "outputs": [],
      "source": [
        "# Fill in the blanks with your group!\n",
        "### YOUR CODE HERE:\n",
        "model_1 = Sequential()\n",
        "model_1.add(InputLayer(input_shape=(____,)))\n",
        "model_1.add(Dense(____, activation = '____'))\n",
        "model_1.add(Dense(____, activation = '____'))\n",
        "model_1.compile(loss='____',\n",
        "                optimizer = 'adam',\n",
        "                metrics = ['accuracy'])\n",
        "model_1.predict([[14,18,5]]) #Try any input! This represents an animal of height 14, weight 18, and age 5.\n",
        "### END CODE"
      ]
    },
    {
      "cell_type": "code",
      "execution_count": null,
      "metadata": {
        "id": "z6ycdxiWbUxb"
      },
      "outputs": [],
      "source": [
        "#@title Instructor Solution { display-mode: \"form\" }\n",
        "# Fill in the blanks with your group!\n",
        "### YOUR CODE HERE:\n",
        "model_1 = Sequential()\n",
        "model_1.add(InputLayer(input_shape=(3,)))\n",
        "model_1.add(Dense(4, activation = 'relu'))\n",
        "model_1.add(Dense(2, activation = 'softmax'))\n",
        "model_1.compile(loss='categorical_crossentropy',\n",
        "optimizer = 'adam',\n",
        "metrics = ['accuracy'])\n",
        "model_1.predict([[14,18,5]]) #Try any input! This represents an animal of height 14, weight 18, and age 5.\n",
        "\n",
        "### END CODE"
      ]
    },
    {
      "cell_type": "markdown",
      "metadata": {
        "id": "baWZ9zXtF2Cz"
      },
      "source": [
        "**Discuss:** How would you interpret this output? Does our (untrained) network classify this as a cat or a dog?"
      ]
    },
    {
      "cell_type": "code",
      "execution_count": null,
      "metadata": {
        "id": "mfOibDe2stkL"
      },
      "outputs": [],
      "source": [
        "# @title Instructor Solution { display-mode: \"form\" }\n",
        "# The first value is the probability of the animal being a cat,\n",
        "# the second is the probability of it being a dog."
      ]
    },
    {
      "cell_type": "markdown",
      "metadata": {
        "id": "781M4IyhssuA"
      },
      "source": [
        "####**Optional Reference**\n",
        "\n",
        "Here's some information about each step of the process. **You don't need to read through all this - check it as a reference if needed!**\n",
        "\n",
        "**1. Specify model**\n",
        "\n",
        "```\n",
        "model = Sequential()\n",
        "```\n",
        "In this line of code, we build our network where the information flows from LEFT to RIGHT through the network in ONE DIRECTION as opposed to multiple directions. Neurons on the right never pass informations to neurons on the left of it.\n",
        "\n",
        "\n",
        "**2. Add layers to the network**\n",
        "```\n",
        "model.add(Dense(4, activation = 'sigmoid'))\n",
        "```\n",
        "In this code, we add a layer of neurons to our network.\n",
        "\n",
        "This layers consists of 4 neurons. Each neuron is DENSE and connects to all of the previous layer's inputs and all of the subsequent layers outputs. We specify that there are 3 inputs here.\n",
        "\n",
        "We also specify what kind of output the neuron will give. If you want the neuron to output a number between 0 and 1 (like a probability!) you would use `'softmax'` or `'sigmoid'`. If you want the neuron to output any number, you can use `'linear'`! You'll also often see `'relu'`, which is when a neuron will only output positive numbers.\n",
        "\n",
        "```\n",
        "model.add(Dense(1, activation = 'linear'))\n",
        "```\n",
        "This code adds ANOTHER layer to the network that has 1 neuron. This one neuron is used to predict a continuous value!\n",
        "\n",
        "**3. Turn the model on by compiling it**\n",
        "\n",
        "After having built the network, we want to train and use it, so we have to 'compile' it to prepare. We have to specify at the very least: a loss (how the model measures the quality of its weights), an optimizer (which adjusts the weights), and a metric (how to evaluate our results). Here are some common choices:\n",
        "```\n",
        "model.compile(loss='mean_squared_error',\n",
        "optimizer = 'adam',\n",
        "metrics = ['mean_squared_error'])\n",
        "  ```\n",
        "\n",
        "Once we've created our network, we can use it very simply! Just like we did with sklearn, we define our input data (x), the true predictions from that data (y), and then train our model with `fit`.\n",
        "\n",
        "```\n",
        "model.fit(x, y)\n",
        "```\n",
        "\n",
        "To use the model, you can use it to predict something with:\n",
        "```\n",
        "y = model.predict(x)\n",
        "```\n",
        "\n",
        "You can actually use the model before you even train it! It just won't perform very well."
      ]
    },
    {
      "cell_type": "markdown",
      "metadata": {
        "id": "YovNRgfuy0Oq"
      },
      "source": [
        "###(Optional) Exercise: Building a Multi-layer Neural Net Using Keras ✍️\n",
        "\n",
        "![](http://cs231n.github.io/assets/nn1/neural_net2.jpeg)\n",
        "\n",
        "Let's try another, bigger example!\n",
        "\n",
        "Here, we are predicting a house price: regression! Our inputs could be \"year the house was built\", \"home square footage\", and \"lot square footage\", while our output is price (in thousands of dollars).\n",
        "\n",
        "* Input Layer: 3 neurons\n",
        "\n",
        "* Layer 1: 4 neurons that are activated by `'relu' `\n",
        "\n",
        "* Layer 2: 4 neurons that are activated by `'relu'`\n",
        "\n",
        "* Layer 3 (out): 1 neuron that is activated by `'relu'`\n",
        "\n",
        "Compile the model with\n",
        "`'mean_squared_error'` as both loss and metric, and try making a prediction for some made-up data.\n"
      ]
    },
    {
      "cell_type": "code",
      "execution_count": null,
      "metadata": {
        "id": "pm-ylEWqbXrQ"
      },
      "outputs": [],
      "source": [
        "### YOUR CODE HERE\n",
        "\n",
        "### END CODE"
      ]
    },
    {
      "cell_type": "code",
      "execution_count": null,
      "metadata": {
        "id": "b1Lov8D78JNF"
      },
      "outputs": [],
      "source": [
        "#@title Instructor Solution { display-mode: \"form\" }\n",
        "\n",
        "### YOUR CODE HERE\n",
        "model_2 = Sequential()\n",
        "model_2.add(InputLayer(input_shape=(3,)))\n",
        "model_2.add(Dense(4, activation = 'relu'))\n",
        "model_2.add(Dense(4, activation = 'relu'))\n",
        "model_2.add(Dense(1, activation = 'relu'))\n",
        "model_2.compile(loss='mean_squared_error',\n",
        "optimizer = 'adam',\n",
        "metrics = ['mean_squared_error'])\n",
        "\n",
        "model_2.predict([[2012, 1000, 1400]])\n",
        "#This house was built in 2012, is 1000 square feet, and has 1400 square feet of land.\n",
        "\n",
        "### END CODE"
      ]
    },
    {
      "cell_type": "markdown",
      "metadata": {
        "id": "YVCmntRHRjPQ"
      },
      "source": [
        "###(Optional) Exercise: Dogs vs. Roads Using Keras\n",
        "\n",
        "Let's try an even bigger example! Here, we are going to distinguish between images of dogs and roads once again.\n",
        "\n",
        "* Input Layer: 3072 dimensions (32 pixels x 32 pixels x 3 color channels)\n",
        "\n",
        "* Layer 1: 32 neurons that are activated by `'relu' `and take in 3072 inputs.\n",
        "\n",
        "* Layer 2: 16 neurons that are activated by `'relu'`\n",
        "\n",
        "* Layer 3 (out): 2 neurons that are activated by `'softmax'`\n",
        "\n",
        "Compile the model with\n",
        "`loss = 'categorical_crossentropy'`, and try making predictions on `inputs_train`!\n",
        "\n",
        "Once again, we are not actually training this model - so the predictions won't be any good. Soon we will create a CNN, which we will train!"
      ]
    },
    {
      "cell_type": "code",
      "execution_count": null,
      "metadata": {
        "id": "DD2Dc4AYR31r"
      },
      "outputs": [],
      "source": [
        "### YOUR CODE HERE\n",
        "\n",
        "### END CODE"
      ]
    },
    {
      "cell_type": "code",
      "execution_count": null,
      "metadata": {
        "id": "Jtt-5yymR82k",
        "cellView": "form"
      },
      "outputs": [],
      "source": [
        "#@title Instructor Solution\n",
        "### YOUR CODE HERE:\n",
        "model_3 = Sequential()\n",
        "model_3.add(InputLayer(input_shape=(3072,)))\n",
        "model_3.add(Dense(32, activation = 'relu'))\n",
        "model_3.add(Dense(16, activation = 'relu'))\n",
        "model_3.add(Dense(2, activation = 'softmax'))\n",
        "model_3.compile(loss='categorical_crossentropy',\n",
        "                optimizer = 'adam',\n",
        "                metrics = ['accuracy'])\n",
        "\n",
        "model_3.predict(inputs_train[:1])\n",
        "### END CODE"
      ]
    },
    {
      "cell_type": "markdown",
      "metadata": {
        "id": "QCbD6siv-Ip-"
      },
      "source": [
        "##Exercise: Building a CNN Using Keras! ✍️\n",
        "\n",
        "Now that we know how to build simple neural networks in Keras, let's build a CNN! The CNN will perform well on our data set of car and road images.\n",
        "\n",
        "Below is Keras code for a CNN. It will run as-is on the conscientious cars dataset. However, the performance is suboptimal. Add more layers and change the neural network hyperparameters so that the performance will be better. **Can you get the train and validation accuracy to both be higher than 95%?**\n",
        "\n",
        "The Keras core layer API may be a useful reference: https://keras.io/layers/core/\n",
        "\n",
        "In particular and in addition to adding more of the existing convolutional layers and activations, consider using the following layers after a convolution + activation:\n",
        "\n",
        "`Dropout(N)`\n",
        "\n",
        "`MaxPooling2D(pool_size=(N, N))`\n"
      ]
    },
    {
      "cell_type": "code",
      "execution_count": null,
      "metadata": {
        "id": "LFVHyPKn-V4N"
      },
      "outputs": [],
      "source": [
        "model = Sequential()\n",
        "model.add(Reshape((32, 32, 3)))\n",
        "\n",
        "model.add(Conv2D(32, (3, 3), padding='same'))\n",
        "model.add(Activation('relu'))\n",
        "model.add(MaxPooling2D(pool_size=(2, 2)))\n",
        "\n",
        "###\n",
        "###\n",
        "### TODO: ADD MORE LAYERS HERE!!!!!\n",
        "###\n",
        "###\n",
        "\n",
        "model.add(Flatten())\n",
        "model.add(Dense(512))\n",
        "model.add(Activation('relu'))\n",
        "model.add(Dense(2))\n",
        "model.add(Activation('softmax'))\n",
        "\n",
        "# initiate RMSprop optimizer\n",
        "opt = keras.optimizers.legacy.RMSprop(learning_rate=0.0001, decay=1e-6)\n",
        "\n",
        "# Let's train the model using RMSprop\n",
        "model.compile(loss='categorical_crossentropy',\n",
        "              optimizer=opt,\n",
        "              metrics=['accuracy'])\n",
        "\n",
        "# Train the CNN and plot accuracy.\n",
        "history = model.fit(inputs_train, labels_train, \\\n",
        "                    validation_data=(inputs_test, labels_test), \\\n",
        "                    epochs=70)\n",
        "plot_acc(history)\n"
      ]
    },
    {
      "cell_type": "code",
      "execution_count": null,
      "metadata": {
        "id": "rEspHuLu_uUT"
      },
      "outputs": [],
      "source": [
        "#@title Instructor Notes + Solution { display-mode: \"form\" }\n",
        "\n",
        "\"\"\"\n",
        "Depending on how the students define their model,\n",
        "the validation accuracy may be significantly higher\n",
        "than the training accuracy at some epochs. This can be\n",
        "attributed to:\n",
        "(1) the fact that Keras turns off regularization\n",
        "(like dropout) during test time and\n",
        "(2) that Keras reports the validation accuracy at the end\n",
        "of each epoch, but reports the average training accuracy over\n",
        "all the batches in each epoch -- this may be especially\n",
        "significant in the first epoch.\n",
        "\n",
        "See [Keras FAQ](https://keras.io/getting_started/faq/#why-is-my-training-loss-much-higher-than-my-testing-loss) for more\n",
        "\"\"\"\n",
        "\n",
        "model = Sequential()\n",
        "model.add(Reshape((32, 32, 3)))\n",
        "\n",
        "model.add(Conv2D(32, (3, 3), padding='same'))\n",
        "model.add(Activation('relu'))\n",
        "\n",
        "model.add(Conv2D(32, (3, 3), padding='same'))\n",
        "model.add(Activation('relu'))\n",
        "\n",
        "model.add(Conv2D(32, (3, 3), padding='same'))\n",
        "model.add(Activation('relu'))\n",
        "\n",
        "model.add(Conv2D(32, (3, 3), padding='same'))\n",
        "model.add(Activation('relu'))\n",
        "\n",
        "model.add(Conv2D(32, (3, 3), padding='same'))\n",
        "model.add(Activation('relu'))\n",
        "\n",
        "model.add(Conv2D(32, (3, 3)))\n",
        "model.add(Activation('relu'))\n",
        "model.add(MaxPooling2D(pool_size=(2, 2)))\n",
        "model.add(Dropout(0.5))\n",
        "\n",
        "model.add(Conv2D(64, (3, 3), padding='same'))\n",
        "model.add(Activation('relu'))\n",
        "\n",
        "model.add(Conv2D(64, (3, 3)))\n",
        "model.add(Activation('relu'))\n",
        "model.add(MaxPooling2D(pool_size=(2, 2)))\n",
        "model.add(Dropout(0.5))\n",
        "\n",
        "model.add(Flatten())\n",
        "model.add(Dense(512))\n",
        "model.add(Activation('relu'))\n",
        "model.add(Dropout(0.5))\n",
        "model.add(Dense(2))\n",
        "model.add(Activation('softmax'))\n",
        "\n",
        "# initiate RMSprop optimizer\n",
        "opt = keras.optimizers.legacy.RMSprop(learning_rate=0.0001, decay=1e-6)\n",
        "\n",
        "# Let's train the model using RMSprop\n",
        "model.compile(loss='categorical_crossentropy',\n",
        "              optimizer=opt,\n",
        "              metrics=['accuracy'])\n",
        "\n",
        "# Train the CNN and plot accuracy.\n",
        "history = model.fit(inputs_train, labels_train, \\\n",
        "                    validation_data=(inputs_test, labels_test), \\\n",
        "                    epochs=70)\n",
        "plot_acc(history)\n",
        "\n"
      ]
    },
    {
      "cell_type": "markdown",
      "metadata": {
        "id": "9JFLu0CdXM6K"
      },
      "source": [
        "**What interesting observations** do you make from the graph? How many epochs should you train for?\n",
        "\n",
        "We can also print out the structure of our model. What do the parts of the summary mean?"
      ]
    },
    {
      "cell_type": "code",
      "execution_count": null,
      "metadata": {
        "id": "RGwXs3C8YZl-"
      },
      "outputs": [],
      "source": [
        "model.summary()"
      ]
    },
    {
      "cell_type": "markdown",
      "metadata": {
        "id": "YXINPAJvRr9W"
      },
      "source": [
        "#Advanced: Cats vs. Dogs with CNN\n",
        "\n",
        "So far, we've trained a CNN to distinguish between small images of roads and small images of dogs. It's more challenging and time-consuming to train CNNs for bigger images or harder tasks, like distinguishing dogs from cats (which look a lot more like dogs than roads do!)\n",
        "\n",
        "In this exercise, you'll adapt your previous model to classify large images of dogs vs. cats, and then try implementing a famous CNN architecture. Along the way, you'll deal with some of the debugging that machine learning engineers often have to handle."
      ]
    },
    {
      "cell_type": "code",
      "execution_count": null,
      "metadata": {
        "id": "6gU39z3jNMAt"
      },
      "outputs": [],
      "source": [
        "#@title Run this to load cat and dog data. { display-mode: \"form\" }\n",
        "\n",
        "#Code here from https://colab.research.google.com/github/google/eng-edu/blob/master/ml/pc/exercises/image_classification_part1.ipynb#scrollTo=4PIP1rkmeAYS\n",
        "\n",
        "import tensorflow as tf\n",
        "import os\n",
        "from tensorflow.keras.preprocessing.image import ImageDataGenerator\n",
        "from google.colab.patches import cv2_imshow\n",
        "import cv2\n",
        "import matplotlib.pyplot as plt\n",
        "\n",
        "try:\n",
        "  road_model = model\n",
        "  road_saved = True\n",
        "except NameError:\n",
        "  road_saved = False\n",
        "\n",
        "IMG_SHAPE  = 150  # Our training data consists of images with width of 150 pixels and height of 150 pixels\n",
        "_URL = 'https://storage.googleapis.com/mledu-datasets/cats_and_dogs_filtered.zip'\n",
        "zip_dir = tf.keras.utils.get_file('cats_and_dogs_filterted.zip', origin=_URL, extract=True)\n",
        "base_dir = os.path.join(os.path.dirname(zip_dir), 'cats_and_dogs_filtered')\n",
        "train_dir = os.path.join(base_dir, 'train')\n",
        "validation_dir = os.path.join(base_dir, 'validation')\n",
        "\n",
        "train_cats_dir = os.path.join(train_dir, 'cats')  # directory with our training cat pictures\n",
        "train_dogs_dir = os.path.join(train_dir, 'dogs')  # directory with our training dog pictures\n",
        "validation_cats_dir = os.path.join(validation_dir, 'cats')  # directory with our validation cat pictures\n",
        "validation_dogs_dir = os.path.join(validation_dir, 'dogs')  # directory with our validation dog pictures\n",
        "train_image_generator      = ImageDataGenerator()  # Generator for our training data\n",
        "validation_image_generator = ImageDataGenerator()  # Generator for our validation data\n",
        "train_data = train_image_generator.flow_from_directory(batch_size=2000,\n",
        "                                                           directory=train_dir,\n",
        "                                                           shuffle=True,\n",
        "                                                           target_size=(IMG_SHAPE,IMG_SHAPE), #(150,150)\n",
        "                                                           class_mode='binary').next()\n",
        "val_data = validation_image_generator.flow_from_directory(batch_size=1000,\n",
        "                                                              directory=validation_dir,\n",
        "                                                              shuffle=False,\n",
        "                                                              target_size=(IMG_SHAPE,IMG_SHAPE), #(150,150)\n",
        "\n",
        "                                                              class_mode='binary').next()\n",
        "cd_train_inputs, cd_train_labels = train_data\n",
        "cd_test_inputs, cd_test_labels = val_data"
      ]
    },
    {
      "cell_type": "markdown",
      "metadata": {
        "id": "1y5etOJwScaG"
      },
      "source": [
        "**Run the code below to see the dimensions of our training and validation data. What does each number mean? What is different than our previous dataset?**"
      ]
    },
    {
      "cell_type": "code",
      "execution_count": null,
      "metadata": {
        "id": "kjdedJ0VNvWg"
      },
      "outputs": [],
      "source": [
        "print(cd_train_inputs.shape)\n",
        "print(cd_train_labels.shape)\n",
        "print(cd_test_inputs.shape)\n",
        "print(cd_test_labels.shape)"
      ]
    },
    {
      "cell_type": "markdown",
      "metadata": {
        "id": "qIAkgOqWTAL7"
      },
      "source": [
        "**Run this code to see a random image from our training data (different each time).**"
      ]
    },
    {
      "cell_type": "code",
      "execution_count": null,
      "metadata": {
        "id": "HooiJ-RrQPcA"
      },
      "outputs": [],
      "source": [
        "index = np.random.randint(len(cd_train_inputs))\n",
        "plt.imshow(cd_train_inputs[index]/255)\n",
        "plt.show()\n",
        "print(\"Label:\",cd_train_labels[index])"
      ]
    },
    {
      "cell_type": "markdown",
      "metadata": {
        "id": "HOwP9kX9UshH"
      },
      "source": [
        "**By adapting code from the previous exercise, build, train, and test a CNN to classify cats vs. dogs.**\n",
        "**Hints:**\n",
        "*   Use `print(model.summary())` for a useful visualization of your model's architecture. Compare the summary of your cat/road and cat/dog classifiers.\n",
        "*  Substitute the names of the new datasets.\n",
        "*  Get a \"first try\" working by making small adjustments to a previous model before trying to optimize the accuracy. You can temporarily comment out layers as you figure things out.\n",
        "*  The outputs have different shapes betweeen the two datasets. What do you need to change? (You will get an ValueError that suggests how to transform the output to a one-hot encoding. Hint: you may want to look into how to use the `to_categorical()` function)\n",
        "*  If you run out of memory, restart the notebook and/or use your knowledge of convolution arithmetic to reduce the size of an intermediate output (see [Keras documentation](https://www.tensorflow.org/api_docs/python/tf/keras/layers/Conv2D)).\n",
        "* Dropout layers help reduce overfitting."
      ]
    },
    {
      "cell_type": "code",
      "execution_count": null,
      "metadata": {
        "id": "AeuqlzigZZ8I"
      },
      "outputs": [],
      "source": [
        "model = Sequential()\n",
        "# TODO: Your code here to build, train, and test a cats vs. dogs CNN! (If you run into errors, see the hints above for help debugging!)\n"
      ]
    },
    {
      "cell_type": "code",
      "execution_count": null,
      "metadata": {
        "colab": {
          "background_save": true
        },
        "id": "9l-JtvibWaNr"
      },
      "outputs": [],
      "source": [
        "#@title Instructor Solution { display-mode: \"form\" }\n",
        "model = Sequential()\n",
        "#TODO: Your code here to build and train a cats vs. dogs CNN!\n",
        "#Using architecture from previous exercise - gives around 70% validation accuracy\n",
        "model.add(Conv2D(32, (3, 3), padding='same'))\n",
        "model.add(Activation('relu'))\n",
        "\n",
        "model.add(Conv2D(32, (3, 3), padding='same'))\n",
        "model.add(Activation('relu'))\n",
        "\n",
        "model.add(Conv2D(32, (3, 3), padding='same'))\n",
        "model.add(Activation('relu'))\n",
        "\n",
        "model.add(Conv2D(32, (3, 3), padding='same'))\n",
        "model.add(Activation('relu'))\n",
        "\n",
        "model.add(Conv2D(32, (3, 3), padding='same'))\n",
        "model.add(Activation('relu'))\n",
        "\n",
        "model.add(Conv2D(32, (3, 3)))\n",
        "model.add(Activation('relu'))\n",
        "model.add(MaxPooling2D(pool_size=(2, 2)))\n",
        "model.add(Dropout(0.5))\n",
        "\n",
        "model.add(Conv2D(64, (3, 3), padding='same'))\n",
        "model.add(Activation('relu'))\n",
        "model.add(Conv2D(64, (3, 3)))\n",
        "model.add(Activation('relu'))\n",
        "model.add(MaxPooling2D(pool_size=(2, 2)))\n",
        "model.add(Dropout(0.5))\n",
        "\n",
        "model.add(Flatten())\n",
        "model.add(Dense(512))\n",
        "model.add(Activation('relu'))\n",
        "model.add(Dropout(0.5))\n",
        "model.add(Dense(2))\n",
        "model.add(Activation('softmax'))\n",
        "\n",
        "\n",
        "# initiate RMSprop optimizer\n",
        "opt = keras.optimizers.legacy.RMSprop(learning_rate=0.0001, decay=1e-6)\n",
        "\n",
        "# Let's train the model using RMSprop\n",
        "model.compile(loss='categorical_crossentropy',\n",
        "              optimizer=opt,\n",
        "              metrics=['accuracy'])\n",
        "\n",
        "# Train the CNN and plot accuracy.\n",
        "# Substituted new dataset names; to_categorical converts to one-hot, as ValueError suggests\n",
        "history = model.fit(cd_train_inputs, to_categorical(cd_train_labels), \\\n",
        "                    validation_data=(cd_test_inputs, to_categorical(cd_test_labels)), \\\n",
        "                    epochs=30)\n",
        "plot_acc(history)\n",
        "\n",
        "print(model.summary())\n"
      ]
    },
    {
      "cell_type": "markdown",
      "metadata": {
        "id": "m6sFSGEqjPwe"
      },
      "source": [
        "#Advanced Challenge: Implementing a Famous Architecture for Cats vs. Dogs\n",
        "\n",
        "Having trouble designing an effective architecture? Try implementing a version of AlexNet, one of the most famous CNNs for image convolution ever. You can find this image and other useful information on this network [here](https://towardsdatascience.com/the-w3h-of-alexnet-vggnet-resnet-and-inception-7baaaecccc96).\n",
        "\n",
        "![](https://lh4.googleusercontent.com/gFAxn9Z-Y1lgkNy2GfsqjXy1DvSuYF8rvP3CslRvmuoP5SUaJMrEOr24YShU_LwalLpYNJFwpJgcDh9whk9XrMOGQ1ADQ9FY_0saicCVH0jsNPDKOYBcTG4YhbqpbPolW4hZSdUsDQ)\n",
        "\n",
        "How do we read this diagram?\n",
        "\n",
        "On the left side, we start with images of dimension 227x227x3 (RGB). We apply a filter composed of 96 kernels of size 11x11, with stride size 4. We end up with data of dimension 55x55x96. We pass through multiple layers of convolution and max pooling as shown, before ending with three dense (fully connected) layers.\n",
        "\n",
        "Not shown: each layer uses ReLU activation, and we include dropout before the first two dense layers. Make sure to include those!\n",
        "\n",
        "You'll want to adjust some of these dimensions, for a few reasons: we're starting with 150x150 rather than 227x227 images, ending with 2 labels rather than 1000, and have limited data and memory. Use your knowledge of convolution arithmetic (see CNN slides) and the [Keras documentation](https://www.tensorflow.org/api_docs/python/tf/keras/layers/Conv2D) to change the stride, kernel, and/or padding.\n",
        "\n",
        "Use `model.summary()` to understand the dimensions of your data at each step. To speed things up as you're building, you can set the number of epochs to 1."
      ]
    },
    {
      "cell_type": "code",
      "execution_count": null,
      "metadata": {
        "id": "8FHg8YTGtQ2t"
      },
      "outputs": [],
      "source": [
        "model = Sequential()\n",
        "#TODO: Your code to run, train, and test AlexNet here:\n"
      ]
    },
    {
      "cell_type": "code",
      "execution_count": null,
      "metadata": {
        "id": "lRqHc0oZkudJ"
      },
      "outputs": [],
      "source": [
        "#@title Instructor Solution { display-mode: \"form\" }\n",
        "#The dimensions do not match up perfectly with the diagram\n",
        "# - there are a few reasonable ways to do this.\n",
        "#This gives an accuracy of about 75%.\n",
        "\n",
        "model = Sequential()\n",
        "#TODO: Your AlexNet code here:\n",
        "model.add(Conv2D(96, 11, strides = 3))\n",
        "model.add(Activation('relu'))\n",
        "\n",
        "model.add(Conv2D(256, 5))\n",
        "model.add(Activation('relu'))\n",
        "\n",
        "model.add(MaxPooling2D(2))\n",
        "model.add(Activation('relu'))\n",
        "\n",
        "model.add(Conv2D(384, 3, padding = 'same'))\n",
        "model.add(Activation('relu'))\n",
        "\n",
        "model.add(MaxPooling2D(2))\n",
        "model.add(Activation('relu'))\n",
        "\n",
        "model.add(Conv2D(384, 3, padding = 'same'))\n",
        "model.add(Activation('relu'))\n",
        "\n",
        "model.add(Conv2D(256, 3, padding = 'same'))\n",
        "model.add(Activation('relu'))\n",
        "\n",
        "model.add(MaxPooling2D(2))\n",
        "model.add(Activation('relu'))\n",
        "\n",
        "model.add(Flatten())\n",
        "\n",
        "model.add(Dropout(0.5))\n",
        "model.add(Dense(4096))\n",
        "model.add(Activation('relu'))\n",
        "\n",
        "model.add(Dropout(0.5))\n",
        "model.add(Dense(128))\n",
        "model.add(Activation('relu'))\n",
        "\n",
        "model.add(Dense(2))\n",
        "model.add(Activation('softmax'))\n",
        "\n",
        "# initiate RMSprop optimizer\n",
        "opt = keras.optimizers.legacy.RMSprop(learning_rate=0.0001, decay=1e-6)\n",
        "\n",
        "# Let's train the model using RMSprop\n",
        "model.compile(loss='categorical_crossentropy',\n",
        "              optimizer=opt,\n",
        "              metrics=['accuracy'])\n",
        "\n",
        "# Train the CNN and plot accuracy.\n",
        "# Substituted new dataset names; to_categorical converts to one-hot, as ValueError suggests\n",
        "history = model.fit(cd_train_inputs, to_categorical(cd_train_labels), \\\n",
        "                    validation_data=(cd_test_inputs, to_categorical(cd_test_labels)), \\\n",
        "                    epochs=10)\n",
        "plot_acc(history)\n",
        "\n",
        "print(model.summary())"
      ]
    },
    {
      "cell_type": "markdown",
      "metadata": {
        "id": "PlF308hDjwyC"
      },
      "source": [
        "You might find that even AlexNet isn't working that well for you!\n",
        "\n",
        "This is because having a good architecture is only half the battle: AlexNet is a complex model designed to learn from millions of images. We're using a small dataset of only 2000 training images, so it's not surprising that our results aren't great. Our model is overfitting: essentially memorizing the few training images, rather than really learning the difference between a cat and a dog. (The advantage is that our model trains quickly.)\n",
        "\n",
        "To get really good performance, we need more data. If we can't find more, we could use *data augmentation*: inventing new training data by transforming our existing images. You can read more about it at https://blog.keras.io/building-powerful-image-classification-models-using-very-little-data.html."
      ]
    },
    {
      "cell_type": "markdown",
      "source": [
        "#From AlexNet to VGGNet: A Better Choice for Image Classification\n",
        "\n",
        "AlexNet's architecture may not be complex enough to capture the nuanced differences between cats and dogs, which might result in lower accuracy in classification tasks.\n",
        "\n",
        "VGGNet, or simply VGG, introduced by the Visual Geometry Group, is a much deeper model with its variants VGG16 and VGG19 having 16 and 19 layers respectively. VGG architecture has smaller, but more number of convolutional filters compared to AlexNet, allowing it to learn more complex features. This depth, along with the use of small 3x3 filters throughout the network, makes it excellent at learning hierarchical features in images, making it more suitable for our cat versus dog classification task.\n",
        "\n",
        "Moreover, VGG models have been trained on millions of images from the ImageNet\n",
        "database, which includes a wide variety of animal images, making the learned features more generalized and better suited for our task. Hence, moving from AlexNet to VGG for our specific classification task would be a strategic choice to potentially improve our model's performance.\n",
        "\n",
        "So let's see how good it is at our task!"
      ],
      "metadata": {
        "id": "ePRiJhGdEgQL"
      }
    },
    {
      "cell_type": "code",
      "source": [
        "#@title Run this to load images and imports! { display-mode: \"form\" }\n",
        "#We have to resize the images to be 240,240 for the vgg net model.\n",
        "\n",
        "from keras.applications.vgg16 import VGG16\n",
        "from keras.models import Model\n",
        "from matplotlib import pyplot\n",
        "from keras.utils import to_categorical\n",
        "from keras.layers import BatchNormalization\n",
        "from keras.optimizers import SGD\n",
        "from keras.layers import Dense\n",
        "from keras.layers import Flatten\n",
        "\n",
        "\n",
        "train_data = train_image_generator.flow_from_directory(batch_size=2000,\n",
        "                                                           directory=train_dir,\n",
        "                                                           shuffle=True,\n",
        "                                                           target_size=(224,224), #(150,150)\n",
        "                                                           class_mode='binary').next()\n",
        "val_data = validation_image_generator.flow_from_directory(batch_size=1000,\n",
        "                                                              directory=validation_dir,\n",
        "                                                              shuffle=False,\n",
        "                                                              target_size=(224,224), #(150,150)\n",
        "                                                              class_mode='binary').next()\n",
        "cd_train_inputs, cd_train_labels = train_data\n",
        "cd_test_inputs, cd_test_labels = val_data"
      ],
      "metadata": {
        "id": "de8Dp3x9Eqgb"
      },
      "execution_count": null,
      "outputs": []
    },
    {
      "cell_type": "markdown",
      "source": [
        "It's crucial to note that VGG16 model requires input images to have a size of 224x224 pixels. We've already preprocessed our images to match this requirement, but ensure the model's input shape is set to this dimensionality as well!\n",
        "\n",
        "Also, you might have noticed that there's another dimension specified in the model's input shape. Wondering what that is? It's the channel dimension. For colored images, it is usually 3, representing the Red, Green, and Blue channels.\n",
        "\n",
        "Now, let's move onto our model configuration. For the first Dense layer, we will be using the 'relu' (Rectified Linear Unit) activation function. It's a commonly used activation function that introduces non-linearity in our model.\n",
        "\n",
        "Following that, we'll utilize the 'sigmoid' activation function in our final Dense layer. The sigmoid function squashes the output between the range of 0 and 1, making it suitable for binary classification tasks."
      ],
      "metadata": {
        "id": "SxBngnvRFaDf"
      }
    },
    {
      "cell_type": "code",
      "source": [
        "# Fill in the underlines!\n",
        "\n",
        "model = VGG16(include_top=False, input_shape=(____,_____,_____))\n",
        "\n",
        "# mark loaded layers as not trainable\n",
        "for layer in model.layers:\n",
        "  layer.trainable = False\n",
        "\n",
        "flat1 = Flatten()(model.layers[-1].output)\n",
        "class1 = Dense(128, activation='_____', kernel_initializer='he_uniform')(flat1)\n",
        "output = Dense(2, activation='_______')(class1)\n",
        "\n",
        "# define new model\n",
        "model = Model(inputs=model.inputs, outputs=output)\n",
        "\n",
        "# compile model\n",
        "opt = SGD(lr=0.001, momentum=0.9)\n",
        "model.compile(optimizer=opt, loss='binary_crossentropy', metrics=['accuracy'])\n",
        "\n",
        "# Train the CNN and plot accuracy.\n",
        "# Substituted new dataset names; to_categorical converts to one-hot, as ValueError suggests\n",
        "history = model.fit(cd_train_inputs, to_categorical(cd_train_labels), \\\n",
        "                    validation_data=(cd_test_inputs, to_categorical(cd_test_labels)), \\\n",
        "                    epochs=2)\n",
        "plot_acc(history)\n",
        "\n",
        "print(model.summary())"
      ],
      "metadata": {
        "id": "bhkQWKVxEuGF"
      },
      "execution_count": null,
      "outputs": []
    },
    {
      "cell_type": "code",
      "source": [
        "#@title Instructor Solution { display-mode: \"form\" }\n",
        "\n",
        "model = VGG16(include_top=False, input_shape=(224, 224, 3))\n",
        "\t# mark loaded layers as not trainable\n",
        "\n",
        "for layer in model.layers:\n",
        "  layer.trainable = False\n",
        "\t# dd new classifier layers\n",
        "flat1 = Flatten()(model.layers[-1].output)\n",
        "class1 = Dense(128, activation='relu', kernel_initializer='he_uniform')(flat1)\n",
        "output = Dense(2, activation='sigmoid')(class1)\n",
        "\t# define new model\n",
        "model = Model(inputs=model.inputs, outputs=output)\n",
        "# compile model\n",
        "opt = SGD(lr=0.001, momentum=0.9)\n",
        "model.compile(optimizer=opt, loss='binary_crossentropy', metrics=['accuracy'])\n",
        "\n",
        "# Train the CNN and plot accuracy.\n",
        "# Substituted new dataset names; to_categorical converts to one-hot, as ValueError suggests\n",
        "history = model.fit(cd_train_inputs, to_categorical(cd_train_labels), \\\n",
        "                    validation_data=(cd_test_inputs, to_categorical(cd_test_labels)), \\\n",
        "                    epochs=2)\n",
        "plot_acc(history)\n",
        "\n",
        "print(model.summary())"
      ],
      "metadata": {
        "id": "68bElX8lGCjD"
      },
      "execution_count": null,
      "outputs": []
    },
    {
      "cell_type": "markdown",
      "source": [
        "# You've reached the end!\n",
        "Moving from AlexNet to VGGNet represents a shift towards more complex and powerful models. Don't feel discouraged if it feels overwhelming – the depth and complexity of VGGNet are part of its strength and why it performs so well.\n",
        "\n",
        "By experimenting with different hyperparameters, layers, and models you're not only enhancing your problem-solving skills but also your intuition about how neural networks operate.\n",
        "\n",
        "Remember, even if you don't hit 95% accuracy, the key is to learn from the process and understand why a certain setup works or why it doesn't.\n",
        "\n",
        "Keep up the fantastic work! Remember, the path to mastering machine learning is a marathon, not a sprint. Keep exploring, keep questioning, and most importantly, have fun with it!"
      ],
      "metadata": {
        "id": "GF1gDyE9NqpE"
      }
    },
    {
      "cell_type": "markdown",
      "metadata": {
        "id": "RVzEpI_xWpE5"
      },
      "source": [
        "![](https://images.pexels.com/photos/316/black-and-white-animal-dog-pet.jpg?auto=compress&cs=tinysrgb&dpr=2&h=650&w=940)"
      ]
    }
  ],
  "metadata": {
    "accelerator": "GPU",
    "colab": {
      "provenance": [],
      "include_colab_link": true
    },
    "kernelspec": {
      "display_name": "Python 3",
      "language": "python",
      "name": "python3"
    },
    "language_info": {
      "codemirror_mode": {
        "name": "ipython",
        "version": 3
      },
      "file_extension": ".py",
      "mimetype": "text/x-python",
      "name": "python",
      "nbconvert_exporter": "python",
      "pygments_lexer": "ipython3",
      "version": "3.8.2"
    }
  },
  "nbformat": 4,
  "nbformat_minor": 0
}